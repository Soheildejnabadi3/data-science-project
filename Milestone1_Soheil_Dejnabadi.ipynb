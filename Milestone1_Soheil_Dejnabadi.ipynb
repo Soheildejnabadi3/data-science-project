{
 "cells": [
  {
   "cell_type": "markdown",
   "id": "2d8d604b",
   "metadata": {},
   "source": [
    "# Milestone 1: Data Cleaning and Pre-Processing\n"
   ]
  },
  {
   "cell_type": "markdown",
   "id": "338b56e5",
   "metadata": {},
   "source": [
    "## Home Loan Approval Dataset"
   ]
  },
  {
   "cell_type": "markdown",
   "id": "de53d7e1",
   "metadata": {},
   "source": [
    "#### By: Soheil Dejnabadi (PSID: 1937584)"
   ]
  },
  {
   "cell_type": "markdown",
   "id": "db831093",
   "metadata": {},
   "source": [
    "##### Data Description\n"
   ]
  },
  {
   "cell_type": "markdown",
   "id": "eaf483ab",
   "metadata": {},
   "source": [
    "Currently, the United States (U.S.) is experiencing a housing crisis caused by a growing national population accompanied by\n",
    "limited housing. As a result, the house market prices have increased due to the increasing demand for housing. With the\n",
    "ongoing crisis, our team decided it would be relevant to investigate what variables go into play when companies deny or\n",
    "approve home loans for homebuyers to help the consumer understand qualities they might need to be approved for a home\n",
    "loan and automate a finance company's loan approval process which may, as a result, ease the housing crisis.\n",
    "\n"
   ]
  },
  {
   "cell_type": "markdown",
   "id": "38f957ef",
   "metadata": {},
   "source": [
    "The dataset that we have chosen is data from the home loan company, Dream Housing Finance company. They are prevalent\n",
    "in all urban, semi-urban (i.e.: suburban), and rural areas. The company is looking for a way to automate their home loan\n",
    "eligibility process based on the consumer's traits and has gathered their consumer's data into a dataset to better automate\n",
    "this process. According to our dataset's website, Kaggle: Home Loan Approval Dataset, our original dataset has 13 features\n",
    "and over 600 observations. Some consumer traits the company looks into when applicants apply for a home loan include:\n",
    "Gender, Marital Status, Education, Number of Dependents, Income, Loan Amount, Credit History, Loan Amount Term, etc."
   ]
  },
  {
   "cell_type": "markdown",
   "id": "e56509c6",
   "metadata": {},
   "source": [
    "Through the data cleaning process, our goal is to eliminate irrelevant data, fix structural errors, remove/handle data with null\n",
    "values, and filter out outliers with the intention that the final, cleaned data set will help us understand what loan companies\n",
    "are looking for in their candidate loaners. To start, we will import libraries to assist with data cleaning, import our data, and\n",
    "view the features' data types.\n"
   ]
  },
  {
   "cell_type": "markdown",
   "id": "b89b888c",
   "metadata": {},
   "source": [
    "First, let's import our important libraries:\n"
   ]
  },
  {
   "cell_type": "code",
   "execution_count": 1,
   "id": "f5b0b5e2",
   "metadata": {},
   "outputs": [],
   "source": [
    "import numpy as np\n",
    "import pandas as pd\n",
    "import matplotlib.pyplot as plt\n",
    "import seaborn as sns"
   ]
  },
  {
   "cell_type": "code",
   "execution_count": 2,
   "id": "ea4cfec0",
   "metadata": {},
   "outputs": [],
   "source": [
    "from matplotlib import rcParams\n",
    "rcParams['figure.figsize'] = 15, 5\n",
    "sns.set_style('darkgrid')"
   ]
  },
  {
   "cell_type": "markdown",
   "id": "797efe3d",
   "metadata": {},
   "source": [
    "Now, we will load in our data into a pandas dataframe so that it is easier for us to manipulate during the data cleaning\n",
    "process. Then, we take a peek to see if our data has loaded in properly.\n"
   ]
  },
  {
   "cell_type": "code",
   "execution_count": 3,
   "id": "2607ad53",
   "metadata": {},
   "outputs": [
    {
     "data": {
      "text/html": [
       "<div>\n",
       "<style scoped>\n",
       "    .dataframe tbody tr th:only-of-type {\n",
       "        vertical-align: middle;\n",
       "    }\n",
       "\n",
       "    .dataframe tbody tr th {\n",
       "        vertical-align: top;\n",
       "    }\n",
       "\n",
       "    .dataframe thead th {\n",
       "        text-align: right;\n",
       "    }\n",
       "</style>\n",
       "<table border=\"1\" class=\"dataframe\">\n",
       "  <thead>\n",
       "    <tr style=\"text-align: right;\">\n",
       "      <th></th>\n",
       "      <th>Loan_ID</th>\n",
       "      <th>Gender</th>\n",
       "      <th>Married</th>\n",
       "      <th>Dependents</th>\n",
       "      <th>Education</th>\n",
       "      <th>Self_Employed</th>\n",
       "      <th>ApplicantIncome</th>\n",
       "      <th>CoapplicantIncome</th>\n",
       "      <th>LoanAmount</th>\n",
       "      <th>Loan_Amount_Term</th>\n",
       "      <th>Credit_History</th>\n",
       "      <th>Property_Area</th>\n",
       "      <th>Loan_Status</th>\n",
       "    </tr>\n",
       "  </thead>\n",
       "  <tbody>\n",
       "    <tr>\n",
       "      <th>0</th>\n",
       "      <td>LP001002</td>\n",
       "      <td>Male</td>\n",
       "      <td>No</td>\n",
       "      <td>0</td>\n",
       "      <td>Graduate</td>\n",
       "      <td>No</td>\n",
       "      <td>5849</td>\n",
       "      <td>0.0</td>\n",
       "      <td>NaN</td>\n",
       "      <td>360.0</td>\n",
       "      <td>1.0</td>\n",
       "      <td>Urban</td>\n",
       "      <td>Y</td>\n",
       "    </tr>\n",
       "    <tr>\n",
       "      <th>1</th>\n",
       "      <td>LP001003</td>\n",
       "      <td>Male</td>\n",
       "      <td>Yes</td>\n",
       "      <td>1</td>\n",
       "      <td>Graduate</td>\n",
       "      <td>No</td>\n",
       "      <td>4583</td>\n",
       "      <td>1508.0</td>\n",
       "      <td>128.0</td>\n",
       "      <td>360.0</td>\n",
       "      <td>1.0</td>\n",
       "      <td>Rural</td>\n",
       "      <td>N</td>\n",
       "    </tr>\n",
       "    <tr>\n",
       "      <th>2</th>\n",
       "      <td>LP001005</td>\n",
       "      <td>Male</td>\n",
       "      <td>Yes</td>\n",
       "      <td>0</td>\n",
       "      <td>Graduate</td>\n",
       "      <td>Yes</td>\n",
       "      <td>3000</td>\n",
       "      <td>0.0</td>\n",
       "      <td>66.0</td>\n",
       "      <td>360.0</td>\n",
       "      <td>1.0</td>\n",
       "      <td>Urban</td>\n",
       "      <td>Y</td>\n",
       "    </tr>\n",
       "    <tr>\n",
       "      <th>3</th>\n",
       "      <td>LP001006</td>\n",
       "      <td>Male</td>\n",
       "      <td>Yes</td>\n",
       "      <td>0</td>\n",
       "      <td>Not Graduate</td>\n",
       "      <td>No</td>\n",
       "      <td>2583</td>\n",
       "      <td>2358.0</td>\n",
       "      <td>120.0</td>\n",
       "      <td>360.0</td>\n",
       "      <td>1.0</td>\n",
       "      <td>Urban</td>\n",
       "      <td>Y</td>\n",
       "    </tr>\n",
       "    <tr>\n",
       "      <th>4</th>\n",
       "      <td>LP001008</td>\n",
       "      <td>Male</td>\n",
       "      <td>No</td>\n",
       "      <td>0</td>\n",
       "      <td>Graduate</td>\n",
       "      <td>No</td>\n",
       "      <td>6000</td>\n",
       "      <td>0.0</td>\n",
       "      <td>141.0</td>\n",
       "      <td>360.0</td>\n",
       "      <td>1.0</td>\n",
       "      <td>Urban</td>\n",
       "      <td>Y</td>\n",
       "    </tr>\n",
       "  </tbody>\n",
       "</table>\n",
       "</div>"
      ],
      "text/plain": [
       "    Loan_ID Gender Married Dependents     Education Self_Employed  \\\n",
       "0  LP001002   Male      No          0      Graduate            No   \n",
       "1  LP001003   Male     Yes          1      Graduate            No   \n",
       "2  LP001005   Male     Yes          0      Graduate           Yes   \n",
       "3  LP001006   Male     Yes          0  Not Graduate            No   \n",
       "4  LP001008   Male      No          0      Graduate            No   \n",
       "\n",
       "   ApplicantIncome  CoapplicantIncome  LoanAmount  Loan_Amount_Term  \\\n",
       "0             5849                0.0         NaN             360.0   \n",
       "1             4583             1508.0       128.0             360.0   \n",
       "2             3000                0.0        66.0             360.0   \n",
       "3             2583             2358.0       120.0             360.0   \n",
       "4             6000                0.0       141.0             360.0   \n",
       "\n",
       "   Credit_History Property_Area Loan_Status  \n",
       "0             1.0         Urban           Y  \n",
       "1             1.0         Rural           N  \n",
       "2             1.0         Urban           Y  \n",
       "3             1.0         Urban           Y  \n",
       "4             1.0         Urban           Y  "
      ]
     },
     "execution_count": 3,
     "metadata": {},
     "output_type": "execute_result"
    }
   ],
   "source": [
    "loan_data = pd.read_csv('loan_sanction_train.csv')\n",
    "loan_data.head()"
   ]
  },
  {
   "cell_type": "markdown",
   "id": "9002f07b",
   "metadata": {},
   "source": [
    "Finally, to generally understand the features we are working with, we will take a look at the types of each feature. From our\n",
    "output, we see that we have object types (8), integer types (1), and float types (4).\n"
   ]
  },
  {
   "cell_type": "code",
   "execution_count": 4,
   "id": "a040d9ee",
   "metadata": {},
   "outputs": [
    {
     "data": {
      "text/plain": [
       "Loan_ID               object\n",
       "Gender                object\n",
       "Married               object\n",
       "Dependents            object\n",
       "Education             object\n",
       "Self_Employed         object\n",
       "ApplicantIncome        int64\n",
       "CoapplicantIncome    float64\n",
       "LoanAmount           float64\n",
       "Loan_Amount_Term     float64\n",
       "Credit_History       float64\n",
       "Property_Area         object\n",
       "Loan_Status           object\n",
       "dtype: object"
      ]
     },
     "execution_count": 4,
     "metadata": {},
     "output_type": "execute_result"
    }
   ],
   "source": [
    "loan_data.dtypes"
   ]
  },
  {
   "cell_type": "markdown",
   "id": "3d27c0cc",
   "metadata": {},
   "source": [
    "Now that we have our dataset imported properly and understand our features and dataset dimensions more, we keep this\n",
    "information in mind as we begin to explore and manipulate our dataset in the data cleaning process to help the finance\n",
    "company automate their home loaning process.\n"
   ]
  },
  {
   "cell_type": "markdown",
   "id": "cbc7fe77",
   "metadata": {},
   "source": [
    "##### Exploratory Data Analysis"
   ]
  },
  {
   "cell_type": "markdown",
   "id": "c86499af",
   "metadata": {},
   "source": [
    "To get more information on our features, we will do some exploratory data analysis (EDA). By the end of this analysis, we hope\n",
    "to discover the dataset's natural patterns, find outliers, and make sense of the dataset through statistical summaries and\n",
    "graphical representations.\n"
   ]
  },
  {
   "cell_type": "markdown",
   "id": "bbf4c714",
   "metadata": {},
   "source": [
    "First, we want to better understand the makeup of our dataset. Using .info() below, the function outputs a table that notes the\n",
    "number of observations we have, the number of columns and their names, as well as the dtypes per column.\n"
   ]
  },
  {
   "cell_type": "code",
   "execution_count": 5,
   "id": "9beae8c3",
   "metadata": {},
   "outputs": [
    {
     "name": "stdout",
     "output_type": "stream",
     "text": [
      "<class 'pandas.core.frame.DataFrame'>\n",
      "RangeIndex: 614 entries, 0 to 613\n",
      "Data columns (total 13 columns):\n",
      " #   Column             Non-Null Count  Dtype  \n",
      "---  ------             --------------  -----  \n",
      " 0   Loan_ID            614 non-null    object \n",
      " 1   Gender             601 non-null    object \n",
      " 2   Married            611 non-null    object \n",
      " 3   Dependents         599 non-null    object \n",
      " 4   Education          614 non-null    object \n",
      " 5   Self_Employed      582 non-null    object \n",
      " 6   ApplicantIncome    614 non-null    int64  \n",
      " 7   CoapplicantIncome  614 non-null    float64\n",
      " 8   LoanAmount         592 non-null    float64\n",
      " 9   Loan_Amount_Term   600 non-null    float64\n",
      " 10  Credit_History     564 non-null    float64\n",
      " 11  Property_Area      614 non-null    object \n",
      " 12  Loan_Status        614 non-null    object \n",
      "dtypes: float64(4), int64(1), object(8)\n",
      "memory usage: 62.5+ KB\n"
     ]
    }
   ],
   "source": [
    "loan_data.info()\n"
   ]
  },
  {
   "cell_type": "markdown",
   "id": "69eae71b",
   "metadata": {},
   "source": [
    "Looking at the Non-Null Count column, we see that for the majority of our 12 columns/features, we have that most features\n",
    "contain most, if not all, of their 614 observations. When data cleaning, we would likely want to more closely take a look at the\n",
    "\"Credit_History\", \"Self_Employed\", and \"LoanAmount\" features, since they have the least non-null values, meaning more\n",
    "empty values out of their 614 observations."
   ]
  },
  {
   "cell_type": "markdown",
   "id": "01448994",
   "metadata": {},
   "source": [
    "Now, we will try to better understand the data through descriptive statistics, which can only be done for our float and integer\n",
    "type variables. We can see the 5-number summary for each of these values, as well as their mean and standard deviation."
   ]
  },
  {
   "cell_type": "code",
   "execution_count": 6,
   "id": "623d0894",
   "metadata": {},
   "outputs": [
    {
     "data": {
      "text/html": [
       "<div>\n",
       "<style scoped>\n",
       "    .dataframe tbody tr th:only-of-type {\n",
       "        vertical-align: middle;\n",
       "    }\n",
       "\n",
       "    .dataframe tbody tr th {\n",
       "        vertical-align: top;\n",
       "    }\n",
       "\n",
       "    .dataframe thead th {\n",
       "        text-align: right;\n",
       "    }\n",
       "</style>\n",
       "<table border=\"1\" class=\"dataframe\">\n",
       "  <thead>\n",
       "    <tr style=\"text-align: right;\">\n",
       "      <th></th>\n",
       "      <th>ApplicantIncome</th>\n",
       "      <th>CoapplicantIncome</th>\n",
       "      <th>LoanAmount</th>\n",
       "      <th>Loan_Amount_Term</th>\n",
       "      <th>Credit_History</th>\n",
       "    </tr>\n",
       "  </thead>\n",
       "  <tbody>\n",
       "    <tr>\n",
       "      <th>count</th>\n",
       "      <td>614.000000</td>\n",
       "      <td>614.000000</td>\n",
       "      <td>592.000000</td>\n",
       "      <td>600.00000</td>\n",
       "      <td>564.000000</td>\n",
       "    </tr>\n",
       "    <tr>\n",
       "      <th>mean</th>\n",
       "      <td>5403.459283</td>\n",
       "      <td>1621.245798</td>\n",
       "      <td>146.412162</td>\n",
       "      <td>342.00000</td>\n",
       "      <td>0.842199</td>\n",
       "    </tr>\n",
       "    <tr>\n",
       "      <th>std</th>\n",
       "      <td>6109.041673</td>\n",
       "      <td>2926.248369</td>\n",
       "      <td>85.587325</td>\n",
       "      <td>65.12041</td>\n",
       "      <td>0.364878</td>\n",
       "    </tr>\n",
       "    <tr>\n",
       "      <th>min</th>\n",
       "      <td>150.000000</td>\n",
       "      <td>0.000000</td>\n",
       "      <td>9.000000</td>\n",
       "      <td>12.00000</td>\n",
       "      <td>0.000000</td>\n",
       "    </tr>\n",
       "    <tr>\n",
       "      <th>25%</th>\n",
       "      <td>2877.500000</td>\n",
       "      <td>0.000000</td>\n",
       "      <td>100.000000</td>\n",
       "      <td>360.00000</td>\n",
       "      <td>1.000000</td>\n",
       "    </tr>\n",
       "    <tr>\n",
       "      <th>50%</th>\n",
       "      <td>3812.500000</td>\n",
       "      <td>1188.500000</td>\n",
       "      <td>128.000000</td>\n",
       "      <td>360.00000</td>\n",
       "      <td>1.000000</td>\n",
       "    </tr>\n",
       "    <tr>\n",
       "      <th>75%</th>\n",
       "      <td>5795.000000</td>\n",
       "      <td>2297.250000</td>\n",
       "      <td>168.000000</td>\n",
       "      <td>360.00000</td>\n",
       "      <td>1.000000</td>\n",
       "    </tr>\n",
       "    <tr>\n",
       "      <th>max</th>\n",
       "      <td>81000.000000</td>\n",
       "      <td>41667.000000</td>\n",
       "      <td>700.000000</td>\n",
       "      <td>480.00000</td>\n",
       "      <td>1.000000</td>\n",
       "    </tr>\n",
       "  </tbody>\n",
       "</table>\n",
       "</div>"
      ],
      "text/plain": [
       "       ApplicantIncome  CoapplicantIncome  LoanAmount  Loan_Amount_Term  \\\n",
       "count       614.000000         614.000000  592.000000         600.00000   \n",
       "mean       5403.459283        1621.245798  146.412162         342.00000   \n",
       "std        6109.041673        2926.248369   85.587325          65.12041   \n",
       "min         150.000000           0.000000    9.000000          12.00000   \n",
       "25%        2877.500000           0.000000  100.000000         360.00000   \n",
       "50%        3812.500000        1188.500000  128.000000         360.00000   \n",
       "75%        5795.000000        2297.250000  168.000000         360.00000   \n",
       "max       81000.000000       41667.000000  700.000000         480.00000   \n",
       "\n",
       "       Credit_History  \n",
       "count      564.000000  \n",
       "mean         0.842199  \n",
       "std          0.364878  \n",
       "min          0.000000  \n",
       "25%          1.000000  \n",
       "50%          1.000000  \n",
       "75%          1.000000  \n",
       "max          1.000000  "
      ]
     },
     "execution_count": 6,
     "metadata": {},
     "output_type": "execute_result"
    }
   ],
   "source": [
    "loan_data.describe()"
   ]
  },
  {
   "cell_type": "markdown",
   "id": "c8d382ae",
   "metadata": {},
   "source": [
    "###### Visualization: \n",
    "Now, we want to be able to visualize the natural patterns that occur within the dataset relating to LoanAmount\n",
    "and Loan_Amount_Term. This way, we can see the changes of the loan amounts as it relates to time."
   ]
  },
  {
   "cell_type": "code",
   "execution_count": 8,
   "id": "9aca3690",
   "metadata": {},
   "outputs": [
    {
     "data": {
      "text/plain": [
       "Text(0.5, 0.98, 'Loan Approval by Loan Term and Loan Amount')"
      ]
     },
     "execution_count": 8,
     "metadata": {},
     "output_type": "execute_result"
    },
    {
     "data": {
      "image/png": "[encoded data removed]",
      "text/plain": [
       "<Figure size 720x360 with 1 Axes>"
      ]
     },
     "metadata": {},
     "output_type": "display_data"
    }
   ],
   "source": [
    "from matplotlib.lines import Line2D\n",
    "fig, ax = plt.subplots(figsize=(10,5))\n",
    "ax.scatter(loan_data[loan_data[\"Loan_Status\"]==\"Y\"][\"Loan_Amount_Term\"],\n",
    "           loan_data[loan_data[\"Loan_Status\"]==\"Y\"][\"LoanAmount\"], c = \"blue\", alpha = 0.5)\n",
    "ax.scatter(loan_data[loan_data[\"Loan_Status\"]==\"N\"][\"Loan_Amount_Term\"],\n",
    "           loan_data[loan_data[\"Loan_Status\"]==\"N\"][\"LoanAmount\"], c = \"green\", alpha = 0.5)\n",
    "\n",
    "ax.set_xlabel(\"Loan Term\")\n",
    "ax.set_ylabel(\"Loan Amount\")\n",
    "\n",
    "color_patches = [\n",
    "    Line2D([0],[0], marker='o', color='w', label=\"approved loan\", markerfacecolor='b', markersize=10),\n",
    "    Line2D([0],[0], marker='o', color='w', label='denied loan', markerfacecolor = 'g', markersize =10)]\n",
    "ax.legend(handles=color_patches)\n",
    "\n",
    "fig.suptitle(\"Loan Approval by Loan Term and Loan Amount\")\n"
   ]
  },
  {
   "cell_type": "markdown",
   "id": "2d44e9f2",
   "metadata": {},
   "source": [
    "###### Duplicated Observations: \n",
    "We should ensure that if there are any naturally duplicated observations in our dataset, that we\n",
    "remove them in data cleaning as they are unnecessary. Since our sum is 0, we know that there are no duplicated values."
   ]
  },
  {
   "cell_type": "code",
   "execution_count": 9,
   "id": "3df079ce",
   "metadata": {},
   "outputs": [
    {
     "data": {
      "text/plain": [
       "0"
      ]
     },
     "execution_count": 9,
     "metadata": {},
     "output_type": "execute_result"
    }
   ],
   "source": [
    "# Finding duplicate values: \n",
    "loan_data.duplicated().sum()"
   ]
  },
  {
   "cell_type": "markdown",
   "id": "a2285f56",
   "metadata": {},
   "source": [
    "###### Correlation: \n",
    "From the correlation matrix, we see that there is a strong correlation between the applicant's loan amount and\n",
    "income, and similarly the co-applicant's income and the loan amount. This leads us to think that this is one of the more\n",
    "important features the company will look at. Also, we see some correlation between the loan amount and the loaning term.\n"
   ]
  },
  {
   "cell_type": "code",
   "execution_count": 10,
   "id": "d091f3ab",
   "metadata": {},
   "outputs": [
    {
     "name": "stderr",
     "output_type": "stream",
     "text": [
      "<ipython-input-10-b6ea2c484a5f>:2: FutureWarning: The default value of numeric_only in DataFrame.corr is deprecated. In a future version, it will default to False. Select only valid columns or specify the value of numeric_only to silence this warning.\n",
      "  sns.heatmap(loan_data.corr(), cmap = \"BuPu\")\n"
     ]
    },
    {
     "data": {
      "text/plain": [
       "Text(0.5, 1.0, 'Correlation of Quantitative Values')"
      ]
     },
     "execution_count": 10,
     "metadata": {},
     "output_type": "execute_result"
    },
    {
     "data": {
      "image/png": "[encoded data removed]",
      "text/plain": [
       "<Figure size 1080x360 with 2 Axes>"
      ]
     },
     "metadata": {},
     "output_type": "display_data"
    }
   ],
   "source": [
    "ax = plt.axes()\n",
    "sns.heatmap(loan_data.corr(), cmap = \"BuPu\")\n",
    "ax.set_title('Correlation of Quantitative Values')"
   ]
  },
  {
   "cell_type": "markdown",
   "id": "b65012d8",
   "metadata": {},
   "source": [
    "We also made a correlation matrix for the qualitative and quantitative variables together. Here we can see the impact that\n",
    "each qualitative variable has on our quantitative variables.From the matrix, we see that the qualitative variables with the most\n",
    "impact on the loan amount are the number of dependents, the applicant's income, and co-applicant's income. Additionally,\n",
    "we note that Credit_History has no correlation to any of the other variables."
   ]
  },
  {
   "cell_type": "code",
   "execution_count": 11,
   "id": "4da66524",
   "metadata": {},
   "outputs": [
    {
     "name": "stderr",
     "output_type": "stream",
     "text": [
      "<ipython-input-11-023d44ce5a09>:14: FutureWarning: The default value of numeric_only in DataFrame.corr is deprecated. In a future version, it will default to False. Select only valid columns or specify the value of numeric_only to silence this warning.\n",
      "  sns.heatmap(loan_data_matrix.corr(), cmap = sns.color_palette(\"muted\"))\n"
     ]
    },
    {
     "data": {
      "text/plain": [
       "Text(0.5, 1.0, 'Correlation of Quantitative/Qualitative Values')"
      ]
     },
     "execution_count": 11,
     "metadata": {},
     "output_type": "execute_result"
    },
    {
     "data": {
      "image/png": "[encoded data removed]",
      "text/plain": [
       "<Figure size 1080x360 with 2 Axes>"
      ]
     },
     "metadata": {},
     "output_type": "display_data"
    }
   ],
   "source": [
    "loan_data_matrix = pd.read_csv('loan_sanction_train.csv')\n",
    "\n",
    "# Since we have some qualitative variables, we need to assign them to integers so we can measure their correlati\n",
    "# compared to our quantitative variables.\n",
    "\n",
    "loan_data_matrix['Gender'].replace(['Male', 'Female'], [0, 1], inplace = True)\n",
    "loan_data_matrix['Married'].replace(['Yes', 'No'], [0, 1], inplace = True)\n",
    "loan_data_matrix['Dependents'].replace(['0', '1', '2', '3+'], [0, 1, 2, 3], inplace = True)\n",
    "loan_data_matrix['Education'].replace(['Graduate', 'Not Graduate'], [0, 1], inplace = True)\n",
    "loan_data_matrix['Self_Employed'].replace(['Yes', 'No'], [0, 1], inplace = True)\n",
    "loan_data_matrix['Property_Area'].replace(['Urban', 'Semiurban', 'Rural'], [0, 1, 2], inplace = True)\n",
    "\n",
    "ax = plt.axes()\n",
    "sns.heatmap(loan_data_matrix.corr(), cmap = sns.color_palette(\"muted\"))\n",
    "\n",
    "ax.set_title('Correlation of Quantitative/Qualitative Values')\n"
   ]
  },
  {
   "cell_type": "markdown",
   "id": "0aa0482a",
   "metadata": {},
   "source": [
    "###### Checking for Outliers: \n",
    "We want to see if there are any unusual observations that we should be aware of and that could\n",
    "potentially skew our future data processing with the quantitative variables. With the boxplots, we see that there are many\n",
    "outliers in the variables ApplicantIncome, CoapplicantIncome, and LoanAmount. On the other hand, we do not see many\n",
    "outliers with the Loan_Amount_Term and Credit_History variables. This makes sense because the loan terms are labels that\n",
    "note distinct points in time that loans are typically given, and credit history is a binary variable. Thus, we will pay more\n",
    "attention to the other three variables as we prepare to clean the dataset, so that we can remove outliers in data pre-processing."
   ]
  },
  {
   "cell_type": "code",
   "execution_count": 12,
   "id": "4059eba0",
   "metadata": {},
   "outputs": [
    {
     "data": {
      "text/plain": [
       "ApplicantIncome         AxesSubplot(0.125,0.125;0.133621x0.755)\n",
       "CoapplicantIncome    AxesSubplot(0.285345,0.125;0.133621x0.755)\n",
       "LoanAmount            AxesSubplot(0.44569,0.125;0.133621x0.755)\n",
       "Loan_Amount_Term     AxesSubplot(0.606034,0.125;0.133621x0.755)\n",
       "Credit_History       AxesSubplot(0.766379,0.125;0.133621x0.755)\n",
       "dtype: object"
      ]
     },
     "execution_count": 12,
     "metadata": {},
     "output_type": "execute_result"
    },
    {
     "data": {
      "image/png": "[encoded data removed]",
      "text/plain": [
       "<Figure size 864x432 with 5 Axes>"
      ]
     },
     "metadata": {},
     "output_type": "display_data"
    }
   ],
   "source": [
    "loan_data.plot(kind = \"box\", subplots=True, sharey = False, figsize=(12,6))"
   ]
  },
  {
   "cell_type": "markdown",
   "id": "802442ab",
   "metadata": {},
   "source": [
    "###### Looking for Null values: \n",
    "Going through each feature and recalling the \"Non-Null Count\", we can look more closely at the\n",
    "percentage of null values in each feature. As we see below, the null values are minimal. The highest percentage of null values\n",
    "is 8% in the Credit_History feature which is not very significant so may be able to remove the null values."
   ]
  },
  {
   "cell_type": "code",
   "execution_count": 13,
   "id": "89424297",
   "metadata": {},
   "outputs": [
    {
     "data": {
      "text/plain": [
       "Loan_ID              0.000000\n",
       "Gender               0.021173\n",
       "Married              0.004886\n",
       "Dependents           0.024430\n",
       "Education            0.000000\n",
       "Self_Employed        0.052117\n",
       "ApplicantIncome      0.000000\n",
       "CoapplicantIncome    0.000000\n",
       "LoanAmount           0.035831\n",
       "Loan_Amount_Term     0.022801\n",
       "Credit_History       0.081433\n",
       "Property_Area        0.000000\n",
       "dtype: float64"
      ]
     },
     "execution_count": 13,
     "metadata": {},
     "output_type": "execute_result"
    }
   ],
   "source": [
    "pct_missing = loan_data.isna().mean()\n",
    "pct_missing[:12]\n"
   ]
  },
  {
   "cell_type": "code",
   "execution_count": 14,
   "id": "4ac954e6",
   "metadata": {},
   "outputs": [
    {
     "data": {
      "image/png": "[encoded data removed]",
      "text/plain": [
       "<Figure size 1080x360 with 1 Axes>"
      ]
     },
     "metadata": {},
     "output_type": "display_data"
    }
   ],
   "source": [
    "#Visualizing our Null Values per Feature\n",
    "fig = sns.barplot(x=loan_data.columns, y=loan_data.isnull().sum().values)\n",
    "plt.xticks(rotation=45)\n",
    "fig.set(ylabel = \"Number of Null Values\", title=\"Number of Null Values per Feature\")\n",
    "plt.show()\n"
   ]
  },
  {
   "cell_type": "markdown",
   "id": "03b001f6",
   "metadata": {},
   "source": [
    "##### Data Cleaning/Feature Engineering"
   ]
  },
  {
   "cell_type": "markdown",
   "id": "67dc2e7a",
   "metadata": {},
   "source": [
    "Now that we have a good grasp on our data set, it is time to go through the data cleaning process to make future data\n",
    "manipulation more convenient to handle.\n"
   ]
  },
  {
   "cell_type": "markdown",
   "id": "cc168cd5",
   "metadata": {},
   "source": [
    "###### Step 1: Removing irrelevant and duplicate data - \n",
    "From our EDA process, we noted that there were no duplicated\n",
    "observations. Additionally, looking at the quanlitative/quantitative correlation matrix, only the Credit_History feature was not\n",
    "correlated to any of the other variables in the matrix, so we will remove it. Now, we have 12 features remaining.\n"
   ]
  },
  {
   "cell_type": "code",
   "execution_count": 15,
   "id": "84cc20d2",
   "metadata": {},
   "outputs": [],
   "source": [
    "loan_data = loan_data.drop(['Credit_History'], axis=1)"
   ]
  },
  {
   "cell_type": "markdown",
   "id": "d0008e0a",
   "metadata": {},
   "source": [
    "###### Step 2: Fixing structural errors - \n",
    "There are some inconsistent naming conventions and data types that may make future data\n",
    "manipulation more bothersome. Thus, we will fix that now by renaming some of our variables to be consistently in 'snake\n",
    "case' (ex: variable_name). Additionally, we will fix the Applicant_Income variable to match the other numerical features in data\n",
    "type, so we will reassign it to be float type."
   ]
  },
  {
   "cell_type": "code",
   "execution_count": 25,
   "id": "1a677565",
   "metadata": {},
   "outputs": [],
   "source": [
    "loan_data = loan_data.rename(columns={'ApplicantIncome': 'Applicant_Income',\n",
    "                                      'CoapplicantIncome':'Coapplicant_Income', 'LoanAmount': 'Loan_Amount'})\n",
    "\n",
    "loan_data.Applicant_Income = loan_data.Applicant_Income.astype(float)\n"
   ]
  },
  {
   "cell_type": "markdown",
   "id": "02fb725e",
   "metadata": {},
   "source": [
    "###### Step 3: Removing/handling missing data - \n",
    "Since we had a small percentage of null values and a lot of observations, we are\n",
    "going to drop the observations that contain a null value. This is the simplest solution because we have enough observations,\n",
    "and deleting the whole row containing a null value will result in an even amount of observations under each feature.\n"
   ]
  },
  {
   "cell_type": "code",
   "execution_count": 26,
   "id": "a8ebadd1",
   "metadata": {},
   "outputs": [
    {
     "data": {
      "text/plain": [
       "Loan_ID               0\n",
       "Gender                0\n",
       "Married               0\n",
       "Dependents            0\n",
       "Education             0\n",
       "Self_Employed         0\n",
       "Applicant_Income      0\n",
       "Coapplicant_Income    0\n",
       "Loan_Amount           0\n",
       "Loan_Amount_Term      0\n",
       "Property_Area         0\n",
       "Loan_Status           0\n",
       "dtype: int64"
      ]
     },
     "execution_count": 26,
     "metadata": {},
     "output_type": "execute_result"
    }
   ],
   "source": [
    "# Dropping missing values # \n",
    "loan_data.dropna(inplace=True)\n",
    "loan_data.isnull().sum() #to verify that the null values have been dropped."
   ]
  },
  {
   "cell_type": "markdown",
   "id": "4071cd45",
   "metadata": {},
   "source": [
    "###### Step 4: Filter outliers - \n",
    "Observing in our EDA that we had outliers, particularly in our quantitative variables, we will remove\n",
    "outliers to ensure that the data processing is effective in the future and that the data represents the majority of our population. In the code, when the function detects an outlier, it will remove the whole observation. Below it is the verification\n",
    "that the total number of observations decreased as a result of outlier detection.\n"
   ]
  },
  {
   "cell_type": "code",
   "execution_count": 27,
   "id": "aa24f9af",
   "metadata": {},
   "outputs": [],
   "source": [
    "loan_data_nooutliers = loan_data\n",
    "cols = ['Applicant_Income','Coapplicant_Income','Loan_Amount','Loan_Amount_Term']\n",
    "Q1 = loan_data_nooutliers[cols].quantile(0.25)\n",
    "Q3 = loan_data_nooutliers[cols].quantile(0.75)\n",
    "IQR = Q3 - Q1\n",
    "loan_data_nooutliers = loan_data_nooutliers[~((loan_data_nooutliers[cols] < (Q1 - 1.5 * IQR)) |\n",
    "                                              (loan_data_nooutliers[cols] > (Q3 + 1.5 * IQR))).any(axis=1)]\n"
   ]
  },
  {
   "cell_type": "code",
   "execution_count": 28,
   "id": "7567c248",
   "metadata": {},
   "outputs": [
    {
     "data": {
      "text/html": [
       "<div>\n",
       "<style scoped>\n",
       "    .dataframe tbody tr th:only-of-type {\n",
       "        vertical-align: middle;\n",
       "    }\n",
       "\n",
       "    .dataframe tbody tr th {\n",
       "        vertical-align: top;\n",
       "    }\n",
       "\n",
       "    .dataframe thead th {\n",
       "        text-align: right;\n",
       "    }\n",
       "</style>\n",
       "<table border=\"1\" class=\"dataframe\">\n",
       "  <thead>\n",
       "    <tr style=\"text-align: right;\">\n",
       "      <th></th>\n",
       "      <th>Applicant_Income</th>\n",
       "      <th>Coapplicant_Income</th>\n",
       "      <th>Loan_Amount</th>\n",
       "      <th>Loan_Amount_Term</th>\n",
       "    </tr>\n",
       "  </thead>\n",
       "  <tbody>\n",
       "    <tr>\n",
       "      <th>count</th>\n",
       "      <td>390.000000</td>\n",
       "      <td>390.000000</td>\n",
       "      <td>390.000000</td>\n",
       "      <td>390.0</td>\n",
       "    </tr>\n",
       "    <tr>\n",
       "      <th>mean</th>\n",
       "      <td>4120.923077</td>\n",
       "      <td>1305.910564</td>\n",
       "      <td>130.194872</td>\n",
       "      <td>360.0</td>\n",
       "    </tr>\n",
       "    <tr>\n",
       "      <th>std</th>\n",
       "      <td>1894.427813</td>\n",
       "      <td>1418.120138</td>\n",
       "      <td>48.067412</td>\n",
       "      <td>0.0</td>\n",
       "    </tr>\n",
       "    <tr>\n",
       "      <th>min</th>\n",
       "      <td>150.000000</td>\n",
       "      <td>0.000000</td>\n",
       "      <td>9.000000</td>\n",
       "      <td>360.0</td>\n",
       "    </tr>\n",
       "    <tr>\n",
       "      <th>25%</th>\n",
       "      <td>2754.500000</td>\n",
       "      <td>0.000000</td>\n",
       "      <td>100.000000</td>\n",
       "      <td>360.0</td>\n",
       "    </tr>\n",
       "    <tr>\n",
       "      <th>50%</th>\n",
       "      <td>3683.500000</td>\n",
       "      <td>1252.500000</td>\n",
       "      <td>125.000000</td>\n",
       "      <td>360.0</td>\n",
       "    </tr>\n",
       "    <tr>\n",
       "      <th>75%</th>\n",
       "      <td>4945.250000</td>\n",
       "      <td>2167.750000</td>\n",
       "      <td>157.750000</td>\n",
       "      <td>360.0</td>\n",
       "    </tr>\n",
       "    <tr>\n",
       "      <th>max</th>\n",
       "      <td>10139.000000</td>\n",
       "      <td>5625.000000</td>\n",
       "      <td>275.000000</td>\n",
       "      <td>360.0</td>\n",
       "    </tr>\n",
       "  </tbody>\n",
       "</table>\n",
       "</div>"
      ],
      "text/plain": [
       "       Applicant_Income  Coapplicant_Income  Loan_Amount  Loan_Amount_Term\n",
       "count        390.000000          390.000000   390.000000             390.0\n",
       "mean        4120.923077         1305.910564   130.194872             360.0\n",
       "std         1894.427813         1418.120138    48.067412               0.0\n",
       "min          150.000000            0.000000     9.000000             360.0\n",
       "25%         2754.500000            0.000000   100.000000             360.0\n",
       "50%         3683.500000         1252.500000   125.000000             360.0\n",
       "75%         4945.250000         2167.750000   157.750000             360.0\n",
       "max        10139.000000         5625.000000   275.000000             360.0"
      ]
     },
     "execution_count": 28,
     "metadata": {},
     "output_type": "execute_result"
    }
   ],
   "source": [
    "#verify the changes:\n",
    "loan_data_nooutliers.describe()[['Applicant_Income', 'Coapplicant_Income','Loan_Amount','Loan_Amount_Term']]"
   ]
  },
  {
   "cell_type": "markdown",
   "id": "a1a24dcf",
   "metadata": {},
   "source": [
    "###### Step 5: Validate the data - \n",
    "Now that the cleaning process is complete, we will analyze if our cleaning process has been\n",
    "logical. First, let's look at a summary of our data at the end of data cleaning."
   ]
  },
  {
   "cell_type": "code",
   "execution_count": 29,
   "id": "ddf60c7b",
   "metadata": {},
   "outputs": [
    {
     "name": "stdout",
     "output_type": "stream",
     "text": [
      "<class 'pandas.core.frame.DataFrame'>\n",
      "Int64Index: 390 entries, 1 to 613\n",
      "Data columns (total 12 columns):\n",
      " #   Column              Non-Null Count  Dtype  \n",
      "---  ------              --------------  -----  \n",
      " 0   Loan_ID             390 non-null    object \n",
      " 1   Gender              390 non-null    object \n",
      " 2   Married             390 non-null    object \n",
      " 3   Dependents          390 non-null    object \n",
      " 4   Education           390 non-null    object \n",
      " 5   Self_Employed       390 non-null    object \n",
      " 6   Applicant_Income    390 non-null    float64\n",
      " 7   Coapplicant_Income  390 non-null    float64\n",
      " 8   Loan_Amount         390 non-null    float64\n",
      " 9   Loan_Amount_Term    390 non-null    float64\n",
      " 10  Property_Area       390 non-null    object \n",
      " 11  Loan_Status         390 non-null    object \n",
      "dtypes: float64(4), object(8)\n",
      "memory usage: 39.6+ KB\n"
     ]
    }
   ],
   "source": [
    "loan_data = loan_data_nooutliers\n",
    "loan_data.info()"
   ]
  },
  {
   "cell_type": "markdown",
   "id": "f61c61e3",
   "metadata": {},
   "source": [
    "With the final summary of our data set, we note that all of the variables in the dataset are relevant, according to our\n",
    "correlations matrices. Additionally, we have enough data to manipulate (390 observations and 11 features) which represents\n",
    "the housing market applicants population and with no outliers that skew our dataset. Finally, by exploring the dataset through\n",
    "the EDA process, we recognize that there exist natural patterns in the home loan approval process that could help us draw\n",
    "conclusions about the homeowner's approval through data analysis of their personal features. Thus, we conclude that data\n",
    "pre-processing has sufficiently cleaned the dataset and that the dataset is ready for future data analysis and processing."
   ]
  },
  {
   "cell_type": "code",
   "execution_count": null,
   "id": "31ee1547",
   "metadata": {},
   "outputs": [],
   "source": []
  }
 ],
 "metadata": {
  "kernelspec": {
   "display_name": "Python 3",
   "language": "python",
   "name": "python3"
  },
  "language_info": {
   "codemirror_mode": {
    "name": "ipython",
    "version": 3
   },
   "file_extension": ".py",
   "mimetype": "text/x-python",
   "name": "python",
   "nbconvert_exporter": "python",
   "pygments_lexer": "ipython3",
   "version": "3.8.8"
  }
 },
 "nbformat": 4,
 "nbformat_minor": 5
}
