{
 "cells": [
  {
   "cell_type": "markdown",
   "id": "7fa45bdd",
   "metadata": {},
   "source": [
    "# Milestone 2: Data Modeling"
   ]
  },
  {
   "cell_type": "markdown",
   "id": "1da6f9f3",
   "metadata": {},
   "source": [
    "### Soheil Dejnabadi (PSID: 1937584)"
   ]
  },
  {
   "cell_type": "markdown",
   "id": "adf0545d",
   "metadata": {},
   "source": [
    "###### Purpose of Data Modeling"
   ]
  },
  {
   "cell_type": "markdown",
   "id": "8567abf1",
   "metadata": {},
   "source": [
    "In our first milestone, we explored the Kaggle: Home Loan Approval Dataset with the intention of preparing ourselves to create an automated process that is capable of predicting a\n",
    "homeowner's likelihood of home loan elgibility. Additionally, we evaluated the relevance of each variable and removed any unnecessary variables that did not correlate with the rest of our data."
   ]
  },
  {
   "cell_type": "markdown",
   "id": "87c21007",
   "metadata": {},
   "source": [
    "In this second milestone, we are going to test different types of machine learning models that can help us predict home loan eligibility and evaluate how well each model did at predicting the\n",
    "label. The models will take in the loaning candidate's qualities, which were explored in the last milestone, and respond with a label, \"Yes\" or \"No\". Thus, we are going to use our knowledge of\n",
    "various supervised classification machine learning models to compare modeling performances and find the most optimal one to use as our final model. The models we are exploring are:"
   ]
  },
  {
   "cell_type": "markdown",
   "id": "08f38c65",
   "metadata": {},
   "source": [
    "1. K-Nearest Neighbor (KNN)\n",
    "2. Support Vector Machines (SVM)\n",
    "3. Naive Bayes Classifier\n",
    "4. Decision Tree Classifier"
   ]
  },
  {
   "cell_type": "markdown",
   "id": "d4809aed",
   "metadata": {},
   "source": [
    "To begin, we will import our libraries and cleaned data.\n"
   ]
  },
  {
   "cell_type": "code",
   "execution_count": 1,
   "id": "9cb2daf3",
   "metadata": {},
   "outputs": [],
   "source": [
    " #libraries \n",
    "import numpy as np\n",
    "import pandas as pd\n",
    "import matplotlib.pyplot as plt\n",
    "import seaborn as sns\n",
    "\n",
    "import warnings\n",
    "warnings.filterwarnings('ignore')\n"
   ]
  },
  {
   "cell_type": "code",
   "execution_count": 2,
   "id": "c4bbfeba",
   "metadata": {},
   "outputs": [
    {
     "data": {
      "text/html": [
       "<div>\n",
       "<style scoped>\n",
       "    .dataframe tbody tr th:only-of-type {\n",
       "        vertical-align: middle;\n",
       "    }\n",
       "\n",
       "    .dataframe tbody tr th {\n",
       "        vertical-align: top;\n",
       "    }\n",
       "\n",
       "    .dataframe thead th {\n",
       "        text-align: right;\n",
       "    }\n",
       "</style>\n",
       "<table border=\"1\" class=\"dataframe\">\n",
       "  <thead>\n",
       "    <tr style=\"text-align: right;\">\n",
       "      <th></th>\n",
       "      <th>Loan_ID</th>\n",
       "      <th>Gender</th>\n",
       "      <th>Married</th>\n",
       "      <th>Dependents</th>\n",
       "      <th>Education</th>\n",
       "      <th>Self_Employed</th>\n",
       "      <th>Applicant_Income</th>\n",
       "      <th>Coapplicant_Income</th>\n",
       "      <th>Loan_Amount</th>\n",
       "      <th>Loan_Amount_Term</th>\n",
       "      <th>Property_Area</th>\n",
       "      <th>Loan_Status</th>\n",
       "    </tr>\n",
       "  </thead>\n",
       "  <tbody>\n",
       "    <tr>\n",
       "      <th>0</th>\n",
       "      <td>LP001003</td>\n",
       "      <td>Male</td>\n",
       "      <td>Yes</td>\n",
       "      <td>1</td>\n",
       "      <td>Graduate</td>\n",
       "      <td>No</td>\n",
       "      <td>4583.0</td>\n",
       "      <td>1508.0</td>\n",
       "      <td>128.0</td>\n",
       "      <td>360.0</td>\n",
       "      <td>Rural</td>\n",
       "      <td>N</td>\n",
       "    </tr>\n",
       "    <tr>\n",
       "      <th>1</th>\n",
       "      <td>LP001005</td>\n",
       "      <td>Male</td>\n",
       "      <td>Yes</td>\n",
       "      <td>0</td>\n",
       "      <td>Graduate</td>\n",
       "      <td>Yes</td>\n",
       "      <td>3000.0</td>\n",
       "      <td>0.0</td>\n",
       "      <td>66.0</td>\n",
       "      <td>360.0</td>\n",
       "      <td>Urban</td>\n",
       "      <td>Y</td>\n",
       "    </tr>\n",
       "    <tr>\n",
       "      <th>2</th>\n",
       "      <td>LP001006</td>\n",
       "      <td>Male</td>\n",
       "      <td>Yes</td>\n",
       "      <td>0</td>\n",
       "      <td>Not Graduate</td>\n",
       "      <td>No</td>\n",
       "      <td>2583.0</td>\n",
       "      <td>2358.0</td>\n",
       "      <td>120.0</td>\n",
       "      <td>360.0</td>\n",
       "      <td>Urban</td>\n",
       "      <td>Y</td>\n",
       "    </tr>\n",
       "    <tr>\n",
       "      <th>3</th>\n",
       "      <td>LP001008</td>\n",
       "      <td>Male</td>\n",
       "      <td>No</td>\n",
       "      <td>0</td>\n",
       "      <td>Graduate</td>\n",
       "      <td>No</td>\n",
       "      <td>6000.0</td>\n",
       "      <td>0.0</td>\n",
       "      <td>141.0</td>\n",
       "      <td>360.0</td>\n",
       "      <td>Urban</td>\n",
       "      <td>Y</td>\n",
       "    </tr>\n",
       "    <tr>\n",
       "      <th>4</th>\n",
       "      <td>LP001011</td>\n",
       "      <td>Male</td>\n",
       "      <td>Yes</td>\n",
       "      <td>2</td>\n",
       "      <td>Graduate</td>\n",
       "      <td>Yes</td>\n",
       "      <td>5417.0</td>\n",
       "      <td>4196.0</td>\n",
       "      <td>267.0</td>\n",
       "      <td>360.0</td>\n",
       "      <td>Urban</td>\n",
       "      <td>Y</td>\n",
       "    </tr>\n",
       "  </tbody>\n",
       "</table>\n",
       "</div>"
      ],
      "text/plain": [
       "    Loan_ID Gender Married Dependents     Education Self_Employed  \\\n",
       "0  LP001003   Male     Yes          1      Graduate            No   \n",
       "1  LP001005   Male     Yes          0      Graduate           Yes   \n",
       "2  LP001006   Male     Yes          0  Not Graduate            No   \n",
       "3  LP001008   Male      No          0      Graduate            No   \n",
       "4  LP001011   Male     Yes          2      Graduate           Yes   \n",
       "\n",
       "   Applicant_Income  Coapplicant_Income  Loan_Amount  Loan_Amount_Term  \\\n",
       "0            4583.0              1508.0        128.0             360.0   \n",
       "1            3000.0                 0.0         66.0             360.0   \n",
       "2            2583.0              2358.0        120.0             360.0   \n",
       "3            6000.0                 0.0        141.0             360.0   \n",
       "4            5417.0              4196.0        267.0             360.0   \n",
       "\n",
       "  Property_Area Loan_Status  \n",
       "0         Rural           N  \n",
       "1         Urban           Y  \n",
       "2         Urban           Y  \n",
       "3         Urban           Y  \n",
       "4         Urban           Y  "
      ]
     },
     "execution_count": 2,
     "metadata": {},
     "output_type": "execute_result"
    }
   ],
   "source": [
    "#cleaned training set\n",
    "loan_train = pd.read_csv('loan_train_clean.csv')\n",
    "loan_train.head()"
   ]
  },
  {
   "cell_type": "markdown",
   "id": "2c769272",
   "metadata": {},
   "source": [
    "Looking at the top five rows of our dataset above, we note that there are string data types in our data set, which will make our machine learning process difficult! So, we will change all of those variables to integer data types to perform our modeling more easily by making dummy variables."
   ]
  },
  {
   "cell_type": "code",
   "execution_count": 3,
   "id": "5be0d5ed",
   "metadata": {},
   "outputs": [
    {
     "name": "stdout",
     "output_type": "stream",
     "text": [
      "      Loan_ID Gender Married  Dependents Education Self_Employed  \\\n",
      "0    LP001003      1       1         1.0         1             0   \n",
      "1    LP001005      1       1         0.0         1             1   \n",
      "2    LP001006      1       1         0.0         0             0   \n",
      "3    LP001008      1       0         0.0         1             0   \n",
      "4    LP001011      1       1         2.0         1             1   \n",
      "..        ...    ...     ...         ...       ...           ...   \n",
      "385  LP002974      1       1         0.0         1             0   \n",
      "386  LP002978      0       0         0.0         1             0   \n",
      "387  LP002983      1       1         1.0         1             0   \n",
      "388  LP002984      1       1         2.0         1             0   \n",
      "389  LP002990      0       0         0.0         1             1   \n",
      "\n",
      "     Applicant_Income  Coapplicant_Income  Loan_Amount  Loan_Amount_Term  \\\n",
      "0              4583.0              1508.0        128.0             360.0   \n",
      "1              3000.0                 0.0         66.0             360.0   \n",
      "2              2583.0              2358.0        120.0             360.0   \n",
      "3              6000.0                 0.0        141.0             360.0   \n",
      "4              5417.0              4196.0        267.0             360.0   \n",
      "..                ...                 ...          ...               ...   \n",
      "385            3232.0              1950.0        108.0             360.0   \n",
      "386            2900.0                 0.0         71.0             360.0   \n",
      "387            8072.0               240.0        253.0             360.0   \n",
      "388            7583.0                 0.0        187.0             360.0   \n",
      "389            4583.0                 0.0        133.0             360.0   \n",
      "\n",
      "    Property_Area Loan_Status  \n",
      "0               0           0  \n",
      "1               2           1  \n",
      "2               2           1  \n",
      "3               2           1  \n",
      "4               2           1  \n",
      "..            ...         ...  \n",
      "385             0           1  \n",
      "386             0           1  \n",
      "387             2           1  \n",
      "388             2           1  \n",
      "389             1           0  \n",
      "\n",
      "[390 rows x 12 columns]\n"
     ]
    }
   ],
   "source": [
    "#for 'Dependents', if '3+', change to 3:\n",
    "loan_train['Dependents'] = loan_train['Dependents'].replace(['3+'], '3')\n",
    "loan_train['Dependents'] = loan_train['Dependents'].astype(float)\n",
    "\n",
    "#change variables to dummies: \n",
    "loan_train.Gender.loc[loan_train.Gender == 'Male'] = 1\n",
    "loan_train.Gender.loc[loan_train.Gender == 'Female'] = 0\n",
    "\n",
    "loan_train.Married.loc[loan_train.Married == 'Yes'] = 1\n",
    "loan_train.Married.loc[loan_train.Married == 'No'] = 0\n",
    "\n",
    "loan_train.Education.loc[loan_train.Education == 'Graduate'] = 1\n",
    "loan_train.Education.loc[loan_train.Education == 'Not Graduate'] = 0\n",
    "\n",
    "loan_train.Self_Employed.loc[loan_train.Self_Employed == 'Yes'] = 1\n",
    "loan_train.Self_Employed.loc[loan_train.Self_Employed == 'No'] = 0\n",
    "\n",
    "loan_train.Property_Area.loc[loan_train.Property_Area == 'Rural'] = 0\n",
    "loan_train.Property_Area.loc[loan_train.Property_Area == 'Semiurban'] = 1\n",
    "loan_train.Property_Area.loc[loan_train.Property_Area == 'Urban'] = 2\n",
    "\n",
    "loan_train.Loan_Status.loc[loan_train.Loan_Status == 'Y'] = 1\n",
    "loan_train.Loan_Status.loc[loan_train.Loan_Status == 'N'] = 0\n",
    "\n",
    "print(loan_train)\n"
   ]
  },
  {
   "cell_type": "markdown",
   "id": "9d4933c7",
   "metadata": {},
   "source": [
    "We still have a classification variable leftover which is our \"Loan_ID\". It is not necessary when we do our modeling, so we can drop this column."
   ]
  },
  {
   "cell_type": "code",
   "execution_count": 4,
   "id": "a9a9d007",
   "metadata": {},
   "outputs": [
    {
     "data": {
      "text/html": [
       "<div>\n",
       "<style scoped>\n",
       "    .dataframe tbody tr th:only-of-type {\n",
       "        vertical-align: middle;\n",
       "    }\n",
       "\n",
       "    .dataframe tbody tr th {\n",
       "        vertical-align: top;\n",
       "    }\n",
       "\n",
       "    .dataframe thead th {\n",
       "        text-align: right;\n",
       "    }\n",
       "</style>\n",
       "<table border=\"1\" class=\"dataframe\">\n",
       "  <thead>\n",
       "    <tr style=\"text-align: right;\">\n",
       "      <th></th>\n",
       "      <th>Gender</th>\n",
       "      <th>Married</th>\n",
       "      <th>Dependents</th>\n",
       "      <th>Education</th>\n",
       "      <th>Self_Employed</th>\n",
       "      <th>Applicant_Income</th>\n",
       "      <th>Coapplicant_Income</th>\n",
       "      <th>Loan_Amount</th>\n",
       "      <th>Loan_Amount_Term</th>\n",
       "      <th>Property_Area</th>\n",
       "      <th>Loan_Status</th>\n",
       "    </tr>\n",
       "  </thead>\n",
       "  <tbody>\n",
       "    <tr>\n",
       "      <th>0</th>\n",
       "      <td>1</td>\n",
       "      <td>1</td>\n",
       "      <td>1</td>\n",
       "      <td>1</td>\n",
       "      <td>0</td>\n",
       "      <td>4583</td>\n",
       "      <td>1508</td>\n",
       "      <td>128</td>\n",
       "      <td>360</td>\n",
       "      <td>0</td>\n",
       "      <td>0</td>\n",
       "    </tr>\n",
       "    <tr>\n",
       "      <th>1</th>\n",
       "      <td>1</td>\n",
       "      <td>1</td>\n",
       "      <td>0</td>\n",
       "      <td>1</td>\n",
       "      <td>1</td>\n",
       "      <td>3000</td>\n",
       "      <td>0</td>\n",
       "      <td>66</td>\n",
       "      <td>360</td>\n",
       "      <td>2</td>\n",
       "      <td>1</td>\n",
       "    </tr>\n",
       "    <tr>\n",
       "      <th>2</th>\n",
       "      <td>1</td>\n",
       "      <td>1</td>\n",
       "      <td>0</td>\n",
       "      <td>0</td>\n",
       "      <td>0</td>\n",
       "      <td>2583</td>\n",
       "      <td>2358</td>\n",
       "      <td>120</td>\n",
       "      <td>360</td>\n",
       "      <td>2</td>\n",
       "      <td>1</td>\n",
       "    </tr>\n",
       "    <tr>\n",
       "      <th>3</th>\n",
       "      <td>1</td>\n",
       "      <td>0</td>\n",
       "      <td>0</td>\n",
       "      <td>1</td>\n",
       "      <td>0</td>\n",
       "      <td>6000</td>\n",
       "      <td>0</td>\n",
       "      <td>141</td>\n",
       "      <td>360</td>\n",
       "      <td>2</td>\n",
       "      <td>1</td>\n",
       "    </tr>\n",
       "    <tr>\n",
       "      <th>4</th>\n",
       "      <td>1</td>\n",
       "      <td>1</td>\n",
       "      <td>2</td>\n",
       "      <td>1</td>\n",
       "      <td>1</td>\n",
       "      <td>5417</td>\n",
       "      <td>4196</td>\n",
       "      <td>267</td>\n",
       "      <td>360</td>\n",
       "      <td>2</td>\n",
       "      <td>1</td>\n",
       "    </tr>\n",
       "  </tbody>\n",
       "</table>\n",
       "</div>"
      ],
      "text/plain": [
       "   Gender  Married  Dependents  Education  Self_Employed  Applicant_Income  \\\n",
       "0       1        1           1          1              0              4583   \n",
       "1       1        1           0          1              1              3000   \n",
       "2       1        1           0          0              0              2583   \n",
       "3       1        0           0          1              0              6000   \n",
       "4       1        1           2          1              1              5417   \n",
       "\n",
       "   Coapplicant_Income  Loan_Amount  Loan_Amount_Term  Property_Area  \\\n",
       "0                1508          128               360              0   \n",
       "1                   0           66               360              2   \n",
       "2                2358          120               360              2   \n",
       "3                   0          141               360              2   \n",
       "4                4196          267               360              2   \n",
       "\n",
       "   Loan_Status  \n",
       "0            0  \n",
       "1            1  \n",
       "2            1  \n",
       "3            1  \n",
       "4            1  "
      ]
     },
     "execution_count": 4,
     "metadata": {},
     "output_type": "execute_result"
    }
   ],
   "source": [
    "#drop ID column, not useful here:\n",
    "loan_train = loan_train.drop(['Loan_ID'], axis = 1)\n",
    "loan_train = loan_train.astype(int)\n",
    "\n",
    "#let's look at how our model looks now:\n",
    "loan_train.head()"
   ]
  },
  {
   "cell_type": "markdown",
   "id": "bf42207a",
   "metadata": {},
   "source": [
    "### 1. K-Nearest Neighbor (KNN)\n",
    "\n",
    "The first model we are choosing to explore is K-Nearest Neighbors. The benefits of this model is that it is simple and intuitive of the models, with a relatively high accuracy. With its common use\n",
    "in data science, we found that this was the most logical model to begin with. We will import our libraries, separate our variables from our classification variable (the approval or non-approval of\n",
    "the home loan inquiry), and initiate the model."
   ]
  },
  {
   "cell_type": "code",
   "execution_count": 5,
   "id": "d2fcef94",
   "metadata": {},
   "outputs": [
    {
     "name": "stdout",
     "output_type": "stream",
     "text": [
      "Training set shape:  (312, 10) (312,)\n",
      "Testing set shape:  (78, 10) (78,)\n"
     ]
    }
   ],
   "source": [
    "from sklearn.neighbors import KNeighborsClassifier\n",
    "from sklearn.model_selection import train_test_split\n",
    "from sklearn import metrics\n",
    "from sklearn.model_selection import GridSearchCV\n",
    "\n",
    "#separate features from label\n",
    "y = loan_train['Loan_Status']\n",
    "x = loan_train.drop(columns=['Loan_Status'])\n",
    "\n",
    "#split into training and testing sets \n",
    "x_train, x_test, y_train, y_test = train_test_split(x, y, test_size = 0.2, random_state = 0)\n",
    "\n",
    "print(\"Training set shape: \", x_train.shape, y_train.shape)\n",
    "print(\"Testing set shape: \" , x_test.shape, y_test.shape)\n"
   ]
  },
  {
   "cell_type": "markdown",
   "id": "dcf9facd",
   "metadata": {},
   "source": [
    "We will first explore which k values will be best for our model. Let's try 30 k-values and see how the accuracy is. Then, we will graph it so that we can more easily visualize the changes in accuracy.\n"
   ]
  },
  {
   "cell_type": "code",
   "execution_count": 6,
   "id": "20d9bd18",
   "metadata": {},
   "outputs": [
    {
     "name": "stdout",
     "output_type": "stream",
     "text": [
      "[0.57692308 0.56410256 0.65384615 0.6025641  0.73076923 0.73076923\n",
      " 0.75641026 0.71794872 0.74358974 0.71794872 0.74358974 0.74358974\n",
      " 0.75641026 0.73076923 0.74358974 0.73076923 0.79487179 0.79487179\n",
      " 0.79487179 0.79487179 0.79487179 0.79487179 0.79487179 0.79487179\n",
      " 0.79487179 0.79487179 0.79487179 0.79487179 0.79487179 0.79487179]\n"
     ]
    }
   ],
   "source": [
    " mean_acc = np.zeros(30)\n",
    "    \n",
    "for i in range(1,31):\n",
    "     #train model + predict \n",
    "     knn = KNeighborsClassifier(n_neighbors = i).fit(x_train, y_train)\n",
    "     y_hat = knn.predict(x_test)\n",
    "     mean_acc[i-1] = metrics.accuracy_score(y_test, y_hat)\n",
    "    \n",
    "print(mean_acc)\n"
   ]
  },
  {
   "cell_type": "code",
   "execution_count": 7,
   "id": "c6f11628",
   "metadata": {},
   "outputs": [
    {
     "data": {
      "text/plain": [
       "<function matplotlib.pyplot.show(close=None, block=None)>"
      ]
     },
     "execution_count": 7,
     "metadata": {},
     "output_type": "execute_result"
    },
    {
     "data": {
      "image/png": "[encoded data removed]",
      "text/plain": [
       "<Figure size 720x432 with 1 Axes>"
      ]
     },
     "metadata": {
      "needs_background": "light"
     },
     "output_type": "display_data"
    }
   ],
   "source": [
    "loc = np.arange(1, 31, step = 1.0)\n",
    "\n",
    "plt.figure(figsize = (10,6))\n",
    "plt.plot(range(1,31), mean_acc)\n",
    "plt.xticks(loc)\n",
    "plt.xlabel('Number of Neighbors')\n",
    "plt.ylabel('Accuracy')\n",
    "plt.show\n"
   ]
  },
  {
   "cell_type": "markdown",
   "id": "392748ef",
   "metadata": {},
   "source": [
    "Based on our graph, it looks like when our number of neighbors, k, equals 17 or more, the accuracy is the best. So, we will tune the model to find the best performing one, using a variety of\n",
    "these k-values.\n"
   ]
  },
  {
   "cell_type": "markdown",
   "id": "f4b3548a",
   "metadata": {},
   "source": [
    "##### Hyperparameter Tuning\n"
   ]
  },
  {
   "cell_type": "code",
   "execution_count": 8,
   "id": "4eb9a04d",
   "metadata": {},
   "outputs": [
    {
     "name": "stdout",
     "output_type": "stream",
     "text": [
      "Fitting 3 folds for each of 36 candidates, totalling 108 fits\n"
     ]
    }
   ],
   "source": [
    "#hyperparameters to be tuned\n",
    "grid_params = {'n_neighbors': [17,20,23,26,29,31],\n",
    "     'weights': ['uniform', 'distance'],\n",
    "     'metric': ['minkowski', 'euclidean', 'manhattan']}\n",
    "\n",
    "gs = GridSearchCV(KNeighborsClassifier(), grid_params, verbose = 1, cv = 3, n_jobs = -1)\n",
    "\n",
    "g_res = gs.fit(x_train, y_train)"
   ]
  },
  {
   "cell_type": "code",
   "execution_count": 9,
   "id": "6c565b75",
   "metadata": {},
   "outputs": [
    {
     "name": "stdout",
     "output_type": "stream",
     "text": [
      "The best parameters for this model is:  {'metric': 'minkowski', 'n_neighbors': 29, 'weights': 'distance'}\n",
      "The accuracy score of these parameters are:  0.7243589743589743\n"
     ]
    }
   ],
   "source": [
    "print('The best parameters for this model is: ', g_res.best_params_)\n",
    "print('The accuracy score of these parameters are: ', g_res.best_score_)"
   ]
  },
  {
   "cell_type": "markdown",
   "id": "6af67634",
   "metadata": {},
   "source": [
    "The best performing model results in an accuracy of about 72%. Let's use these hyperparameters for our KNN model!"
   ]
  },
  {
   "cell_type": "code",
   "execution_count": 10,
   "id": "5c7d9663",
   "metadata": {},
   "outputs": [],
   "source": [
    "#let's use the best hyperparameters: \n",
    "best_knn = KNeighborsClassifier(n_neighbors = 29, weights = 'distance',\n",
    "                 metric = 'minkowski')\n",
    "best_knn.fit(x_train, y_train)\n",
    "\n",
    "best_y_hat = best_knn.predict(x_train)\n",
    "best_y = best_knn.predict(x_test)"
   ]
  },
  {
   "cell_type": "markdown",
   "id": "5983e2c8",
   "metadata": {},
   "source": [
    "##### Model Performance Evaluation"
   ]
  },
  {
   "cell_type": "code",
   "execution_count": 13,
   "id": "5fdc923b",
   "metadata": {},
   "outputs": [
    {
     "name": "stdout",
     "output_type": "stream",
     "text": [
      "Confusion matrix\n",
      "\n",
      " [[ 0 16]\n",
      " [ 7 55]]\n",
      "\n",
      "True Positives(TP) =  0\n",
      "\n",
      "True Negatives(TN) =  55\n",
      "\n",
      "False Positives(FP) =  16\n",
      "\n",
      "False Negatives(FN) =  7\n",
      "              precision    recall  f1-score   support\n",
      "\n",
      "           0       0.00      0.00      0.00        16\n",
      "           1       0.77      0.89      0.83        62\n",
      "\n",
      "    accuracy                           0.71        78\n",
      "   macro avg       0.39      0.44      0.41        78\n",
      "weighted avg       0.62      0.71      0.66        78\n",
      "\n"
     ]
    }
   ],
   "source": [
    "from sklearn.metrics import classification_report\n",
    "from sklearn.metrics import confusion_matrix\n",
    "\n",
    "conf_mat = confusion_matrix(y_test, best_y)\n",
    "\n",
    "print('Confusion matrix\\n\\n', conf_mat)\n",
    "print('\\nTrue Positives(TP) = ', conf_mat[0,0])\n",
    "print('\\nTrue Negatives(TN) = ', conf_mat[1,1])\n",
    "print('\\nFalse Positives(FP) = ', conf_mat[0,1])\n",
    "print('\\nFalse Negatives(FN) = ', conf_mat[1,0])\n",
    "print(classification_report(y_test,best_y))\n"
   ]
  },
  {
   "cell_type": "markdown",
   "id": "b8be686f",
   "metadata": {},
   "source": [
    "From the final model evaluation, we see that the model's precision is about 77% which is quite good. A total of 23 out of our 78 loan statuses were labeled incorrectly. We would prefer a higher\n",
    "accuracy, if possible, so we will attempt another model.\n"
   ]
  },
  {
   "cell_type": "markdown",
   "id": "6ebc32c2",
   "metadata": {},
   "source": [
    "### 2. Support Vector Machines (SVM)\n",
    "\n",
    "Another model, similar to KNN, is the Support Vector Machine Learning Model (SVM). This model improves its classification of data points by sacrificing some misclassifications in training to\n",
    "better classify the rest of the model. Thus, there is less variance in individual observations. With this approach, it may result in better model performance. Let's initiate this model:\n"
   ]
  },
  {
   "cell_type": "code",
   "execution_count": 14,
   "id": "03da4cee",
   "metadata": {},
   "outputs": [
    {
     "data": {
      "text/plain": [
       "SVC()"
      ]
     },
     "execution_count": 14,
     "metadata": {},
     "output_type": "execute_result"
    }
   ],
   "source": [
    "from sklearn.svm import SVC\n",
    "\n",
    "# instantiate the model with default parameters\n",
    "model = SVC()\n",
    "\n",
    "# fit/train \n",
    "model.fit(x_train,y_train)"
   ]
  },
  {
   "cell_type": "code",
   "execution_count": 15,
   "id": "433c2ad8",
   "metadata": {},
   "outputs": [],
   "source": [
    "predictions = model.predict(x_test)"
   ]
  },
  {
   "cell_type": "code",
   "execution_count": 16,
   "id": "86e4cbdb",
   "metadata": {},
   "outputs": [
    {
     "name": "stdout",
     "output_type": "stream",
     "text": [
      "Confusion matrix\n",
      "\n",
      " [[ 0 16]\n",
      " [ 0 62]]\n",
      "\n",
      "True Positives(TP) =  0\n",
      "\n",
      "True Negatives(TN) =  62\n",
      "\n",
      "False Positives(FP) =  16\n",
      "\n",
      "False Negatives(FN) =  0\n"
     ]
    }
   ],
   "source": [
    "from sklearn.metrics import confusion_matrix\n",
    "\n",
    "cm = confusion_matrix(y_test, predictions)\n",
    "\n",
    "print('Confusion matrix\\n\\n', cm)\n",
    "print('\\nTrue Positives(TP) = ', cm[0,0])\n",
    "print('\\nTrue Negatives(TN) = ', cm[1,1])\n",
    "print('\\nFalse Positives(FP) = ', cm[0,1])\n",
    "print('\\nFalse Negatives(FN) = ', cm[1,0])\n"
   ]
  },
  {
   "cell_type": "code",
   "execution_count": 17,
   "id": "9ac31cb8",
   "metadata": {},
   "outputs": [
    {
     "name": "stdout",
     "output_type": "stream",
     "text": [
      "              precision    recall  f1-score   support\n",
      "\n",
      "           0       0.00      0.00      0.00        16\n",
      "           1       0.79      1.00      0.89        62\n",
      "\n",
      "    accuracy                           0.79        78\n",
      "   macro avg       0.40      0.50      0.44        78\n",
      "weighted avg       0.63      0.79      0.70        78\n",
      "\n"
     ]
    }
   ],
   "source": [
    "from sklearn.metrics import classification_report\n",
    "\n",
    "print(classification_report(y_test,predictions))"
   ]
  },
  {
   "cell_type": "markdown",
   "id": "955640fc",
   "metadata": {},
   "source": [
    "From our initial attempt at the SVM model, we see that our model has misclassified 16 observations. We will see if tuning the model will improve our model performance.\n"
   ]
  },
  {
   "cell_type": "markdown",
   "id": "bc396b12",
   "metadata": {},
   "source": [
    "##### Hyperparameter Tuning\n",
    "\n",
    "In SVM, we uniquely have a C variable, which acts as the \"budget\" in which the violations of misclassifcation can occur. As the C value increases, we are more tolerant of these violations. Gamma\n",
    "is the parameter of our radial (non-linear) kernel. If our gamma is small, the curvature of the decision boundary is low and has a broad decision region.\n"
   ]
  },
  {
   "cell_type": "code",
   "execution_count": 18,
   "id": "c429d70f",
   "metadata": {},
   "outputs": [],
   "source": [
    "param_grid = {'C': [0.1,1, 10, 100, 1000], 'gamma': [1,0.1,0.01,0.001,0.0001], 'kernel': ['rbf']}"
   ]
  },
  {
   "cell_type": "code",
   "execution_count": 19,
   "id": "e39d7ea1",
   "metadata": {},
   "outputs": [],
   "source": [
    "from sklearn.model_selection import GridSearchCV\n",
    "\n",
    "grid = GridSearchCV(SVC(),param_grid,refit=True,verbose=3)"
   ]
  },
  {
   "cell_type": "code",
   "execution_count": 20,
   "id": "7e4f8a93",
   "metadata": {},
   "outputs": [
    {
     "name": "stdout",
     "output_type": "stream",
     "text": [
      "Fitting 5 folds for each of 25 candidates, totalling 125 fits\n",
      "[CV 1/5] END .....................C=0.1, gamma=1, kernel=rbf; total time=   0.0s\n",
      "[CV 2/5] END .....................C=0.1, gamma=1, kernel=rbf; total time=   0.0s\n",
      "[CV 3/5] END .....................C=0.1, gamma=1, kernel=rbf; total time=   0.0s\n",
      "[CV 4/5] END .....................C=0.1, gamma=1, kernel=rbf; total time=   0.0s\n",
      "[CV 5/5] END .....................C=0.1, gamma=1, kernel=rbf; total time=   0.0s\n",
      "[CV 1/5] END ...................C=0.1, gamma=0.1, kernel=rbf; total time=   0.0s\n",
      "[CV 2/5] END ...................C=0.1, gamma=0.1, kernel=rbf; total time=   0.0s\n",
      "[CV 3/5] END ...................C=0.1, gamma=0.1, kernel=rbf; total time=   0.0s\n",
      "[CV 4/5] END ...................C=0.1, gamma=0.1, kernel=rbf; total time=   0.0s\n",
      "[CV 5/5] END ...................C=0.1, gamma=0.1, kernel=rbf; total time=   0.0s\n",
      "[CV 1/5] END ..................C=0.1, gamma=0.01, kernel=rbf; total time=   0.0s\n",
      "[CV 2/5] END ..................C=0.1, gamma=0.01, kernel=rbf; total time=   0.0s\n",
      "[CV 3/5] END ..................C=0.1, gamma=0.01, kernel=rbf; total time=   0.0s\n",
      "[CV 4/5] END ..................C=0.1, gamma=0.01, kernel=rbf; total time=   0.0s\n",
      "[CV 5/5] END ..................C=0.1, gamma=0.01, kernel=rbf; total time=   0.0s\n",
      "[CV 1/5] END .................C=0.1, gamma=0.001, kernel=rbf; total time=   0.0s\n",
      "[CV 2/5] END .................C=0.1, gamma=0.001, kernel=rbf; total time=   0.0s\n",
      "[CV 3/5] END .................C=0.1, gamma=0.001, kernel=rbf; total time=   0.0s\n",
      "[CV 4/5] END .................C=0.1, gamma=0.001, kernel=rbf; total time=   0.0s\n",
      "[CV 5/5] END .................C=0.1, gamma=0.001, kernel=rbf; total time=   0.0s\n",
      "[CV 1/5] END ................C=0.1, gamma=0.0001, kernel=rbf; total time=   0.0s\n",
      "[CV 2/5] END ................C=0.1, gamma=0.0001, kernel=rbf; total time=   0.0s\n",
      "[CV 3/5] END ................C=0.1, gamma=0.0001, kernel=rbf; total time=   0.0s\n",
      "[CV 4/5] END ................C=0.1, gamma=0.0001, kernel=rbf; total time=   0.0s\n",
      "[CV 5/5] END ................C=0.1, gamma=0.0001, kernel=rbf; total time=   0.0s\n",
      "[CV 1/5] END .......................C=1, gamma=1, kernel=rbf; total time=   0.0s\n",
      "[CV 2/5] END .......................C=1, gamma=1, kernel=rbf; total time=   0.0s\n",
      "[CV 3/5] END .......................C=1, gamma=1, kernel=rbf; total time=   0.0s\n",
      "[CV 4/5] END .......................C=1, gamma=1, kernel=rbf; total time=   0.0s\n",
      "[CV 5/5] END .......................C=1, gamma=1, kernel=rbf; total time=   0.0s\n",
      "[CV 1/5] END .....................C=1, gamma=0.1, kernel=rbf; total time=   0.0s\n",
      "[CV 2/5] END .....................C=1, gamma=0.1, kernel=rbf; total time=   0.0s\n",
      "[CV 3/5] END .....................C=1, gamma=0.1, kernel=rbf; total time=   0.0s\n",
      "[CV 4/5] END .....................C=1, gamma=0.1, kernel=rbf; total time=   0.0s\n",
      "[CV 5/5] END .....................C=1, gamma=0.1, kernel=rbf; total time=   0.0s\n",
      "[CV 1/5] END ....................C=1, gamma=0.01, kernel=rbf; total time=   0.0s\n",
      "[CV 2/5] END ....................C=1, gamma=0.01, kernel=rbf; total time=   0.0s\n",
      "[CV 3/5] END ....................C=1, gamma=0.01, kernel=rbf; total time=   0.0s\n",
      "[CV 4/5] END ....................C=1, gamma=0.01, kernel=rbf; total time=   0.0s\n",
      "[CV 5/5] END ....................C=1, gamma=0.01, kernel=rbf; total time=   0.0s\n",
      "[CV 1/5] END ...................C=1, gamma=0.001, kernel=rbf; total time=   0.0s\n",
      "[CV 2/5] END ...................C=1, gamma=0.001, kernel=rbf; total time=   0.0s\n",
      "[CV 3/5] END ...................C=1, gamma=0.001, kernel=rbf; total time=   0.0s\n",
      "[CV 4/5] END ...................C=1, gamma=0.001, kernel=rbf; total time=   0.0s\n",
      "[CV 5/5] END ...................C=1, gamma=0.001, kernel=rbf; total time=   0.0s\n",
      "[CV 1/5] END ..................C=1, gamma=0.0001, kernel=rbf; total time=   0.0s\n",
      "[CV 2/5] END ..................C=1, gamma=0.0001, kernel=rbf; total time=   0.0s\n",
      "[CV 3/5] END ..................C=1, gamma=0.0001, kernel=rbf; total time=   0.0s\n",
      "[CV 4/5] END ..................C=1, gamma=0.0001, kernel=rbf; total time=   0.0s\n",
      "[CV 5/5] END ..................C=1, gamma=0.0001, kernel=rbf; total time=   0.0s\n",
      "[CV 1/5] END ......................C=10, gamma=1, kernel=rbf; total time=   0.0s\n",
      "[CV 2/5] END ......................C=10, gamma=1, kernel=rbf; total time=   0.0s\n",
      "[CV 3/5] END ......................C=10, gamma=1, kernel=rbf; total time=   0.0s\n",
      "[CV 4/5] END ......................C=10, gamma=1, kernel=rbf; total time=   0.0s\n",
      "[CV 5/5] END ......................C=10, gamma=1, kernel=rbf; total time=   0.0s\n",
      "[CV 1/5] END ....................C=10, gamma=0.1, kernel=rbf; total time=   0.0s\n",
      "[CV 2/5] END ....................C=10, gamma=0.1, kernel=rbf; total time=   0.0s\n",
      "[CV 3/5] END ....................C=10, gamma=0.1, kernel=rbf; total time=   0.0s\n",
      "[CV 4/5] END ....................C=10, gamma=0.1, kernel=rbf; total time=   0.0s\n",
      "[CV 5/5] END ....................C=10, gamma=0.1, kernel=rbf; total time=   0.0s\n",
      "[CV 1/5] END ...................C=10, gamma=0.01, kernel=rbf; total time=   0.0s\n",
      "[CV 2/5] END ...................C=10, gamma=0.01, kernel=rbf; total time=   0.0s\n",
      "[CV 3/5] END ...................C=10, gamma=0.01, kernel=rbf; total time=   0.0s\n",
      "[CV 4/5] END ...................C=10, gamma=0.01, kernel=rbf; total time=   0.0s\n",
      "[CV 5/5] END ...................C=10, gamma=0.01, kernel=rbf; total time=   0.0s\n",
      "[CV 1/5] END ..................C=10, gamma=0.001, kernel=rbf; total time=   0.0s\n",
      "[CV 2/5] END ..................C=10, gamma=0.001, kernel=rbf; total time=   0.0s\n",
      "[CV 3/5] END ..................C=10, gamma=0.001, kernel=rbf; total time=   0.0s\n",
      "[CV 4/5] END ..................C=10, gamma=0.001, kernel=rbf; total time=   0.0s\n",
      "[CV 5/5] END ..................C=10, gamma=0.001, kernel=rbf; total time=   0.0s\n",
      "[CV 1/5] END .................C=10, gamma=0.0001, kernel=rbf; total time=   0.0s\n",
      "[CV 2/5] END .................C=10, gamma=0.0001, kernel=rbf; total time=   0.0s\n",
      "[CV 3/5] END .................C=10, gamma=0.0001, kernel=rbf; total time=   0.0s\n",
      "[CV 4/5] END .................C=10, gamma=0.0001, kernel=rbf; total time=   0.0s\n",
      "[CV 5/5] END .................C=10, gamma=0.0001, kernel=rbf; total time=   0.0s\n",
      "[CV 1/5] END .....................C=100, gamma=1, kernel=rbf; total time=   0.0s\n",
      "[CV 2/5] END .....................C=100, gamma=1, kernel=rbf; total time=   0.0s\n",
      "[CV 3/5] END .....................C=100, gamma=1, kernel=rbf; total time=   0.0s\n",
      "[CV 4/5] END .....................C=100, gamma=1, kernel=rbf; total time=   0.0s\n",
      "[CV 5/5] END .....................C=100, gamma=1, kernel=rbf; total time=   0.0s\n",
      "[CV 1/5] END ...................C=100, gamma=0.1, kernel=rbf; total time=   0.0s\n",
      "[CV 2/5] END ...................C=100, gamma=0.1, kernel=rbf; total time=   0.0s\n",
      "[CV 3/5] END ...................C=100, gamma=0.1, kernel=rbf; total time=   0.0s\n",
      "[CV 4/5] END ...................C=100, gamma=0.1, kernel=rbf; total time=   0.0s\n",
      "[CV 5/5] END ...................C=100, gamma=0.1, kernel=rbf; total time=   0.0s\n",
      "[CV 1/5] END ..................C=100, gamma=0.01, kernel=rbf; total time=   0.0s\n",
      "[CV 2/5] END ..................C=100, gamma=0.01, kernel=rbf; total time=   0.0s\n",
      "[CV 3/5] END ..................C=100, gamma=0.01, kernel=rbf; total time=   0.0s\n",
      "[CV 4/5] END ..................C=100, gamma=0.01, kernel=rbf; total time=   0.0s\n",
      "[CV 5/5] END ..................C=100, gamma=0.01, kernel=rbf; total time=   0.0s\n",
      "[CV 1/5] END .................C=100, gamma=0.001, kernel=rbf; total time=   0.0s\n",
      "[CV 2/5] END .................C=100, gamma=0.001, kernel=rbf; total time=   0.0s\n",
      "[CV 3/5] END .................C=100, gamma=0.001, kernel=rbf; total time=   0.0s\n",
      "[CV 4/5] END .................C=100, gamma=0.001, kernel=rbf; total time=   0.0s\n",
      "[CV 5/5] END .................C=100, gamma=0.001, kernel=rbf; total time=   0.0s\n",
      "[CV 1/5] END ................C=100, gamma=0.0001, kernel=rbf; total time=   0.0s\n",
      "[CV 2/5] END ................C=100, gamma=0.0001, kernel=rbf; total time=   0.0s\n",
      "[CV 3/5] END ................C=100, gamma=0.0001, kernel=rbf; total time=   0.0s\n",
      "[CV 4/5] END ................C=100, gamma=0.0001, kernel=rbf; total time=   0.0s\n",
      "[CV 5/5] END ................C=100, gamma=0.0001, kernel=rbf; total time=   0.0s\n",
      "[CV 1/5] END ....................C=1000, gamma=1, kernel=rbf; total time=   0.0s\n",
      "[CV 2/5] END ....................C=1000, gamma=1, kernel=rbf; total time=   0.0s\n",
      "[CV 3/5] END ....................C=1000, gamma=1, kernel=rbf; total time=   0.0s\n",
      "[CV 4/5] END ....................C=1000, gamma=1, kernel=rbf; total time=   0.0s\n",
      "[CV 5/5] END ....................C=1000, gamma=1, kernel=rbf; total time=   0.0s\n",
      "[CV 1/5] END ..................C=1000, gamma=0.1, kernel=rbf; total time=   0.0s\n",
      "[CV 2/5] END ..................C=1000, gamma=0.1, kernel=rbf; total time=   0.0s\n",
      "[CV 3/5] END ..................C=1000, gamma=0.1, kernel=rbf; total time=   0.0s\n",
      "[CV 4/5] END ..................C=1000, gamma=0.1, kernel=rbf; total time=   0.0s\n",
      "[CV 5/5] END ..................C=1000, gamma=0.1, kernel=rbf; total time=   0.0s\n",
      "[CV 1/5] END .................C=1000, gamma=0.01, kernel=rbf; total time=   0.0s\n",
      "[CV 2/5] END .................C=1000, gamma=0.01, kernel=rbf; total time=   0.0s\n",
      "[CV 3/5] END .................C=1000, gamma=0.01, kernel=rbf; total time=   0.0s\n",
      "[CV 4/5] END .................C=1000, gamma=0.01, kernel=rbf; total time=   0.0s\n",
      "[CV 5/5] END .................C=1000, gamma=0.01, kernel=rbf; total time=   0.0s\n",
      "[CV 1/5] END ................C=1000, gamma=0.001, kernel=rbf; total time=   0.0s\n",
      "[CV 2/5] END ................C=1000, gamma=0.001, kernel=rbf; total time=   0.0s\n",
      "[CV 3/5] END ................C=1000, gamma=0.001, kernel=rbf; total time=   0.0s\n",
      "[CV 4/5] END ................C=1000, gamma=0.001, kernel=rbf; total time=   0.0s\n",
      "[CV 5/5] END ................C=1000, gamma=0.001, kernel=rbf; total time=   0.0s\n",
      "[CV 1/5] END ...............C=1000, gamma=0.0001, kernel=rbf; total time=   0.0s\n",
      "[CV 2/5] END ...............C=1000, gamma=0.0001, kernel=rbf; total time=   0.0s\n",
      "[CV 3/5] END ...............C=1000, gamma=0.0001, kernel=rbf; total time=   0.0s\n",
      "[CV 4/5] END ...............C=1000, gamma=0.0001, kernel=rbf; total time=   0.0s\n",
      "[CV 5/5] END ...............C=1000, gamma=0.0001, kernel=rbf; total time=   0.0s\n"
     ]
    },
    {
     "data": {
      "text/plain": [
       "GridSearchCV(estimator=SVC(),\n",
       "             param_grid={'C': [0.1, 1, 10, 100, 1000],\n",
       "                         'gamma': [1, 0.1, 0.01, 0.001, 0.0001],\n",
       "                         'kernel': ['rbf']},\n",
       "             verbose=3)"
      ]
     },
     "execution_count": 20,
     "metadata": {},
     "output_type": "execute_result"
    }
   ],
   "source": [
    "#let's find the best combination of parameters:\n",
    "grid.fit(x_train,y_train)"
   ]
  },
  {
   "cell_type": "code",
   "execution_count": 21,
   "id": "ad2261d3",
   "metadata": {},
   "outputs": [
    {
     "name": "stdout",
     "output_type": "stream",
     "text": [
      "The best parameters for SVM are:  {'C': 10, 'gamma': 0.001, 'kernel': 'rbf'}\n"
     ]
    }
   ],
   "source": [
    "print(\"The best parameters for SVM are: \", grid.best_params_)"
   ]
  },
  {
   "cell_type": "markdown",
   "id": "98b261df",
   "metadata": {},
   "source": [
    "##### Model Performance Evaluation\n",
    "\n",
    "Using these best performing parameters, we will evaluate its final performance."
   ]
  },
  {
   "cell_type": "code",
   "execution_count": 22,
   "id": "1ec30377",
   "metadata": {},
   "outputs": [],
   "source": [
    "grid_predictions = grid.predict(x_test)"
   ]
  },
  {
   "cell_type": "code",
   "execution_count": 23,
   "id": "fc6c6b30",
   "metadata": {},
   "outputs": [
    {
     "name": "stdout",
     "output_type": "stream",
     "text": [
      "Confusion matrix\n",
      "\n",
      " [[ 1 15]\n",
      " [ 8 54]]\n",
      "\n",
      "True Positives(TP) =  1\n",
      "\n",
      "True Negatives(TN) =  54\n",
      "\n",
      "False Positives(FP) =  15\n",
      "\n",
      "False Negatives(FN) =  8\n",
      "              precision    recall  f1-score   support\n",
      "\n",
      "           0       0.11      0.06      0.08        16\n",
      "           1       0.78      0.87      0.82        62\n",
      "\n",
      "    accuracy                           0.71        78\n",
      "   macro avg       0.45      0.47      0.45        78\n",
      "weighted avg       0.64      0.71      0.67        78\n",
      "\n"
     ]
    }
   ],
   "source": [
    "conf_mat = confusion_matrix(y_test,grid_predictions)\n",
    "\n",
    "print('Confusion matrix\\n\\n', conf_mat)\n",
    "print('\\nTrue Positives(TP) = ', conf_mat[0,0])\n",
    "print('\\nTrue Negatives(TN) = ', conf_mat[1,1])\n",
    "print('\\nFalse Positives(FP) = ', conf_mat[0,1])\n",
    "print('\\nFalse Negatives(FN) = ', conf_mat[1,0])\n",
    "\n",
    "print(classification_report(y_test,grid_predictions))"
   ]
  },
  {
   "cell_type": "markdown",
   "id": "1618063f",
   "metadata": {},
   "source": [
    "Looking at our accuracy, we see that the model performs with a 78% accuracy. Out of 78 observations, 23 loan statuses were classified incorrectly. We conclude that the SVM model performed\n",
    "similarly to the KNN model."
   ]
  },
  {
   "cell_type": "markdown",
   "id": "3cf560c2",
   "metadata": {},
   "source": [
    "### 3. Naive Bayes Classifier"
   ]
  },
  {
   "cell_type": "code",
   "execution_count": 24,
   "id": "ecae9c78",
   "metadata": {},
   "outputs": [
    {
     "data": {
      "text/plain": [
       "GaussianNB()"
      ]
     },
     "execution_count": 24,
     "metadata": {},
     "output_type": "execute_result"
    }
   ],
   "source": [
    "from sklearn.naive_bayes import GaussianNB\n",
    "\n",
    "# instantiate the model to train a Gaussian Naive Bayes classifier\n",
    "gnb = GaussianNB()\n",
    "\n",
    "# fit the model\n",
    "gnb.fit(x_train, y_train)"
   ]
  },
  {
   "cell_type": "markdown",
   "id": "57fa4567",
   "metadata": {},
   "source": [
    "We can make predictions off of the test data and evaluate our model's performance using the corresponding test data labels."
   ]
  },
  {
   "cell_type": "code",
   "execution_count": 25,
   "id": "d7616afb",
   "metadata": {},
   "outputs": [],
   "source": [
    "y_pred = gnb.predict(x_test)"
   ]
  },
  {
   "cell_type": "code",
   "execution_count": 26,
   "id": "8ac6ddad",
   "metadata": {},
   "outputs": [
    {
     "name": "stdout",
     "output_type": "stream",
     "text": [
      "Model accuracy score: 0.7821\n"
     ]
    }
   ],
   "source": [
    "from sklearn.metrics import accuracy_score\n",
    "\n",
    "print('Model accuracy score: {0:0.4f}'.format(accuracy_score(y_test, y_pred)))"
   ]
  },
  {
   "cell_type": "markdown",
   "id": "a4e95fd0",
   "metadata": {},
   "source": [
    "Compare the train set and test set accuracy:"
   ]
  },
  {
   "cell_type": "code",
   "execution_count": 27,
   "id": "a289ee43",
   "metadata": {},
   "outputs": [
    {
     "name": "stdout",
     "output_type": "stream",
     "text": [
      "Training set score: 0.7083\n",
      "Test set score: 0.7821\n"
     ]
    }
   ],
   "source": [
    "y_pred_train = gnb.predict(x_train)\n",
    "\n",
    "print('Training set score: {:.4f}'.format(gnb.score(x_train, y_train)))\n",
    "print('Test set score: {:.4f}'.format(gnb.score(x_test, y_test)))"
   ]
  },
  {
   "cell_type": "code",
   "execution_count": 28,
   "id": "a1a13bca",
   "metadata": {},
   "outputs": [
    {
     "name": "stdout",
     "output_type": "stream",
     "text": [
      "Confusion matrix\n",
      "\n",
      " [[ 1 15]\n",
      " [ 2 60]]\n",
      "\n",
      "True Positives(TP) =  1\n",
      "\n",
      "True Negatives(TN) =  60\n",
      "\n",
      "False Positives(FP) =  15\n",
      "\n",
      "False Negatives(FN) =  2\n"
     ]
    }
   ],
   "source": [
    "from sklearn.metrics import confusion_matrix\n",
    "\n",
    "cm = confusion_matrix(y_test, y_pred)\n",
    "\n",
    "print('Confusion matrix\\n\\n', cm)\n",
    "print('\\nTrue Positives(TP) = ', cm[0,0])\n",
    "print('\\nTrue Negatives(TN) = ', cm[1,1])\n",
    "print('\\nFalse Positives(FP) = ', cm[0,1])\n",
    "print('\\nFalse Negatives(FN) = ', cm[1,0])"
   ]
  },
  {
   "cell_type": "code",
   "execution_count": 29,
   "id": "251aec08",
   "metadata": {},
   "outputs": [
    {
     "name": "stdout",
     "output_type": "stream",
     "text": [
      "              precision    recall  f1-score   support\n",
      "\n",
      "           0       0.33      0.06      0.11        16\n",
      "           1       0.80      0.97      0.88        62\n",
      "\n",
      "    accuracy                           0.78        78\n",
      "   macro avg       0.57      0.52      0.49        78\n",
      "weighted avg       0.70      0.78      0.72        78\n",
      "\n"
     ]
    }
   ],
   "source": [
    "from sklearn.metrics import classification_report\n",
    "print(classification_report(y_test, y_pred))"
   ]
  },
  {
   "cell_type": "markdown",
   "id": "d10fc77a",
   "metadata": {},
   "source": [
    "##### Model Performance Evaluation"
   ]
  },
  {
   "cell_type": "code",
   "execution_count": 30,
   "id": "ef0377be",
   "metadata": {},
   "outputs": [
    {
     "name": "stdout",
     "output_type": "stream",
     "text": [
      "Cross validation scores:[0.70192308 0.69230769 0.64423077]\n",
      "\n",
      "Average cross validation score: 0.6795\n"
     ]
    }
   ],
   "source": [
    "from sklearn.model_selection import cross_val_score\n",
    "\n",
    "# Applying 10 Fold Cross Validation\n",
    "scores = cross_val_score(gnb, x_train, y_train, cv = 3, scoring='accuracy')\n",
    "print('Cross validation scores:{}'.format(scores))\n",
    "\n",
    "# compute Average cross validation score\n",
    "print('\\nAverage cross validation score: {:.4f}'.format(scores.mean()))"
   ]
  },
  {
   "cell_type": "markdown",
   "id": "dc892c02",
   "metadata": {},
   "source": [
    "Using the mean cross‑validation, we can conclude that we expect the model to be around 68% accurate on average. This resulting accuracy is poor in comparison to that of the SVM and KNN\n",
    "models. Thus, we will likely not use this approach to create our final model."
   ]
  },
  {
   "cell_type": "markdown",
   "id": "82191dff",
   "metadata": {},
   "source": [
    "### 4. Decision Tree Classifier\n",
    "\n",
    "The 4th and last model we decided to implement was the decision tree. Decision Trees are by far the easiest models to understand and interpret, since the branches show what decisions are\n",
    "made. They are able to handle noise that might be potential outliers. They are able to identify the most important features to ensure the most accurate model exists.\n"
   ]
  },
  {
   "cell_type": "code",
   "execution_count": 43,
   "id": "3f57ae50",
   "metadata": {},
   "outputs": [
    {
     "name": "stdout",
     "output_type": "stream",
     "text": [
      "Accuracy: 67.95%\n",
      "|--- Applicant_Income <= 1519.00\n",
      "|   |--- Property_Area <= 0.50\n",
      "|   |   |--- Coapplicant_Income <= 2286.50\n",
      "|   |   |   |--- class: 0\n",
      "|   |   |--- Coapplicant_Income >  2286.50\n",
      "|   |   |   |--- class: 1\n",
      "|   |--- Property_Area >  0.50\n",
      "|   |   |--- class: 0\n",
      "|--- Applicant_Income >  1519.00\n",
      "|   |--- Property_Area <= 0.50\n",
      "|   |   |--- Coapplicant_Income <= 5031.50\n",
      "|   |   |   |--- Coapplicant_Income <= 2912.50\n",
      "|   |   |   |   |--- Coapplicant_Income <= 2550.00\n",
      "|   |   |   |   |   |--- Coapplicant_Income <= 1758.00\n",
      "|   |   |   |   |   |   |--- Loan_Amount <= 106.00\n",
      "|   |   |   |   |   |   |   |--- Coapplicant_Income <= 1355.50\n",
      "|   |   |   |   |   |   |   |   |--- Loan_Amount <= 58.50\n",
      "|   |   |   |   |   |   |   |   |   |--- Loan_Amount <= 47.00\n",
      "|   |   |   |   |   |   |   |   |   |   |--- class: 0\n",
      "|   |   |   |   |   |   |   |   |   |--- Loan_Amount >  47.00\n",
      "|   |   |   |   |   |   |   |   |   |   |--- class: 1\n",
      "|   |   |   |   |   |   |   |   |--- Loan_Amount >  58.50\n",
      "|   |   |   |   |   |   |   |   |   |--- Applicant_Income <= 3160.00\n",
      "|   |   |   |   |   |   |   |   |   |   |--- Loan_Amount <= 68.50\n",
      "|   |   |   |   |   |   |   |   |   |   |   |--- class: 0\n",
      "|   |   |   |   |   |   |   |   |   |   |--- Loan_Amount >  68.50\n",
      "|   |   |   |   |   |   |   |   |   |   |   |--- class: 1\n",
      "|   |   |   |   |   |   |   |   |   |--- Applicant_Income >  3160.00\n",
      "|   |   |   |   |   |   |   |   |   |   |--- class: 0\n",
      "|   |   |   |   |   |   |   |--- Coapplicant_Income >  1355.50\n",
      "|   |   |   |   |   |   |   |   |--- class: 1\n",
      "|   |   |   |   |   |   |--- Loan_Amount >  106.00\n",
      "|   |   |   |   |   |   |   |--- Coapplicant_Income <= 1420.50\n",
      "|   |   |   |   |   |   |   |   |--- Applicant_Income <= 2696.00\n",
      "|   |   |   |   |   |   |   |   |   |--- class: 0\n",
      "|   |   |   |   |   |   |   |   |--- Applicant_Income >  2696.00\n",
      "|   |   |   |   |   |   |   |   |   |--- Dependents <= 0.50\n",
      "|   |   |   |   |   |   |   |   |   |   |--- Applicant_Income <= 3470.50\n",
      "|   |   |   |   |   |   |   |   |   |   |   |--- class: 0\n",
      "|   |   |   |   |   |   |   |   |   |   |--- Applicant_Income >  3470.50\n",
      "|   |   |   |   |   |   |   |   |   |   |   |--- truncated branch of depth 5\n",
      "|   |   |   |   |   |   |   |   |   |--- Dependents >  0.50\n",
      "|   |   |   |   |   |   |   |   |   |   |--- Applicant_Income <= 6316.50\n",
      "|   |   |   |   |   |   |   |   |   |   |   |--- class: 1\n",
      "|   |   |   |   |   |   |   |   |   |   |--- Applicant_Income >  6316.50\n",
      "|   |   |   |   |   |   |   |   |   |   |   |--- truncated branch of depth 2\n",
      "|   |   |   |   |   |   |   |--- Coapplicant_Income >  1420.50\n",
      "|   |   |   |   |   |   |   |   |--- Applicant_Income <= 3855.00\n",
      "|   |   |   |   |   |   |   |   |   |--- Coapplicant_Income <= 1626.50\n",
      "|   |   |   |   |   |   |   |   |   |   |--- class: 0\n",
      "|   |   |   |   |   |   |   |   |   |--- Coapplicant_Income >  1626.50\n",
      "|   |   |   |   |   |   |   |   |   |   |--- class: 1\n",
      "|   |   |   |   |   |   |   |   |--- Applicant_Income >  3855.00\n",
      "|   |   |   |   |   |   |   |   |   |--- class: 0\n",
      "|   |   |   |   |   |--- Coapplicant_Income >  1758.00\n",
      "|   |   |   |   |   |   |--- Applicant_Income <= 3299.00\n",
      "|   |   |   |   |   |   |   |--- class: 1\n",
      "|   |   |   |   |   |   |--- Applicant_Income >  3299.00\n",
      "|   |   |   |   |   |   |   |--- Coapplicant_Income <= 2068.50\n",
      "|   |   |   |   |   |   |   |   |--- class: 1\n",
      "|   |   |   |   |   |   |   |--- Coapplicant_Income >  2068.50\n",
      "|   |   |   |   |   |   |   |   |--- Married <= 0.50\n",
      "|   |   |   |   |   |   |   |   |   |--- class: 1\n",
      "|   |   |   |   |   |   |   |   |--- Married >  0.50\n",
      "|   |   |   |   |   |   |   |   |   |--- class: 0\n",
      "|   |   |   |   |--- Coapplicant_Income >  2550.00\n",
      "|   |   |   |   |   |--- class: 0\n",
      "|   |   |   |--- Coapplicant_Income >  2912.50\n",
      "|   |   |   |   |--- Loan_Amount <= 198.00\n",
      "|   |   |   |   |   |--- class: 1\n",
      "|   |   |   |   |--- Loan_Amount >  198.00\n",
      "|   |   |   |   |   |--- Married <= 0.50\n",
      "|   |   |   |   |   |   |--- class: 0\n",
      "|   |   |   |   |   |--- Married >  0.50\n",
      "|   |   |   |   |   |   |--- class: 1\n",
      "|   |   |--- Coapplicant_Income >  5031.50\n",
      "|   |   |   |--- class: 0\n",
      "|   |--- Property_Area >  0.50\n",
      "|   |   |--- Coapplicant_Income <= 94.50\n",
      "|   |   |   |--- Applicant_Income <= 2457.00\n",
      "|   |   |   |   |--- Education <= 0.50\n",
      "|   |   |   |   |   |--- class: 1\n",
      "|   |   |   |   |--- Education >  0.50\n",
      "|   |   |   |   |   |--- class: 0\n",
      "|   |   |   |--- Applicant_Income >  2457.00\n",
      "|   |   |   |   |--- Loan_Amount <= 212.00\n",
      "|   |   |   |   |   |--- Loan_Amount <= 164.00\n",
      "|   |   |   |   |   |   |--- Loan_Amount <= 158.00\n",
      "|   |   |   |   |   |   |   |--- Loan_Amount <= 61.00\n",
      "|   |   |   |   |   |   |   |   |--- class: 1\n",
      "|   |   |   |   |   |   |   |--- Loan_Amount >  61.00\n",
      "|   |   |   |   |   |   |   |   |--- Loan_Amount <= 68.50\n",
      "|   |   |   |   |   |   |   |   |   |--- class: 0\n",
      "|   |   |   |   |   |   |   |   |--- Loan_Amount >  68.50\n",
      "|   |   |   |   |   |   |   |   |   |--- Applicant_Income <= 5048.50\n",
      "|   |   |   |   |   |   |   |   |   |   |--- Loan_Amount <= 124.50\n",
      "|   |   |   |   |   |   |   |   |   |   |   |--- truncated branch of depth 6\n",
      "|   |   |   |   |   |   |   |   |   |   |--- Loan_Amount >  124.50\n",
      "|   |   |   |   |   |   |   |   |   |   |   |--- truncated branch of depth 3\n",
      "|   |   |   |   |   |   |   |   |   |--- Applicant_Income >  5048.50\n",
      "|   |   |   |   |   |   |   |   |   |   |--- Applicant_Income <= 6203.00\n",
      "|   |   |   |   |   |   |   |   |   |   |   |--- class: 1\n",
      "|   |   |   |   |   |   |   |   |   |   |--- Applicant_Income >  6203.00\n",
      "|   |   |   |   |   |   |   |   |   |   |   |--- truncated branch of depth 3\n",
      "|   |   |   |   |   |   |--- Loan_Amount >  158.00\n",
      "|   |   |   |   |   |   |   |--- class: 0\n",
      "|   |   |   |   |   |--- Loan_Amount >  164.00\n",
      "|   |   |   |   |   |   |--- class: 1\n",
      "|   |   |   |   |--- Loan_Amount >  212.00\n",
      "|   |   |   |   |   |--- Applicant_Income <= 8566.00\n",
      "|   |   |   |   |   |   |--- class: 1\n",
      "|   |   |   |   |   |--- Applicant_Income >  8566.00\n",
      "|   |   |   |   |   |   |--- class: 0\n",
      "|   |   |--- Coapplicant_Income >  94.50\n",
      "|   |   |   |--- Coapplicant_Income <= 2421.50\n",
      "|   |   |   |   |--- Loan_Amount <= 180.50\n",
      "|   |   |   |   |   |--- Loan_Amount <= 129.00\n",
      "|   |   |   |   |   |   |--- Loan_Amount <= 127.50\n",
      "|   |   |   |   |   |   |   |--- Self_Employed <= 0.50\n",
      "|   |   |   |   |   |   |   |   |--- Loan_Amount <= 103.00\n",
      "|   |   |   |   |   |   |   |   |   |--- class: 1\n",
      "|   |   |   |   |   |   |   |   |--- Loan_Amount >  103.00\n",
      "|   |   |   |   |   |   |   |   |   |--- Loan_Amount <= 107.00\n",
      "|   |   |   |   |   |   |   |   |   |   |--- Gender <= 0.50\n",
      "|   |   |   |   |   |   |   |   |   |   |   |--- class: 0\n",
      "|   |   |   |   |   |   |   |   |   |   |--- Gender >  0.50\n",
      "|   |   |   |   |   |   |   |   |   |   |   |--- truncated branch of depth 2\n",
      "|   |   |   |   |   |   |   |   |   |--- Loan_Amount >  107.00\n",
      "|   |   |   |   |   |   |   |   |   |   |--- Applicant_Income <= 3094.50\n",
      "|   |   |   |   |   |   |   |   |   |   |   |--- truncated branch of depth 2\n",
      "|   |   |   |   |   |   |   |   |   |   |--- Applicant_Income >  3094.50\n",
      "|   |   |   |   |   |   |   |   |   |   |   |--- class: 1\n",
      "|   |   |   |   |   |   |   |--- Self_Employed >  0.50\n",
      "|   |   |   |   |   |   |   |   |--- Dependents <= 1.00\n",
      "|   |   |   |   |   |   |   |   |   |--- class: 0\n",
      "|   |   |   |   |   |   |   |   |--- Dependents >  1.00\n",
      "|   |   |   |   |   |   |   |   |   |--- class: 1\n",
      "|   |   |   |   |   |   |--- Loan_Amount >  127.50\n",
      "|   |   |   |   |   |   |   |--- class: 0\n",
      "|   |   |   |   |   |--- Loan_Amount >  129.00\n",
      "|   |   |   |   |   |   |--- class: 1\n",
      "|   |   |   |   |--- Loan_Amount >  180.50\n",
      "|   |   |   |   |   |--- Applicant_Income <= 3093.00\n",
      "|   |   |   |   |   |   |--- class: 0\n",
      "|   |   |   |   |   |--- Applicant_Income >  3093.00\n",
      "|   |   |   |   |   |   |--- Married <= 0.50\n",
      "|   |   |   |   |   |   |   |--- class: 0\n",
      "|   |   |   |   |   |   |--- Married >  0.50\n",
      "|   |   |   |   |   |   |   |--- class: 1\n",
      "|   |   |   |--- Coapplicant_Income >  2421.50\n",
      "|   |   |   |   |--- Applicant_Income <= 2194.00\n",
      "|   |   |   |   |   |--- class: 0\n",
      "|   |   |   |   |--- Applicant_Income >  2194.00\n",
      "|   |   |   |   |   |--- Coapplicant_Income <= 2454.50\n",
      "|   |   |   |   |   |   |--- class: 0\n",
      "|   |   |   |   |   |--- Coapplicant_Income >  2454.50\n",
      "|   |   |   |   |   |   |--- Coapplicant_Income <= 4589.00\n",
      "|   |   |   |   |   |   |   |--- Coapplicant_Income <= 2626.00\n",
      "|   |   |   |   |   |   |   |   |--- Coapplicant_Income <= 2546.50\n",
      "|   |   |   |   |   |   |   |   |   |--- class: 1\n",
      "|   |   |   |   |   |   |   |   |--- Coapplicant_Income >  2546.50\n",
      "|   |   |   |   |   |   |   |   |   |--- class: 0\n",
      "|   |   |   |   |   |   |   |--- Coapplicant_Income >  2626.00\n",
      "|   |   |   |   |   |   |   |   |--- Gender <= 0.50\n",
      "|   |   |   |   |   |   |   |   |   |--- Property_Area <= 1.50\n",
      "|   |   |   |   |   |   |   |   |   |   |--- class: 1\n",
      "|   |   |   |   |   |   |   |   |   |--- Property_Area >  1.50\n",
      "|   |   |   |   |   |   |   |   |   |   |--- class: 0\n",
      "|   |   |   |   |   |   |   |   |--- Gender >  0.50\n",
      "|   |   |   |   |   |   |   |   |   |--- class: 1\n",
      "|   |   |   |   |   |   |--- Coapplicant_Income >  4589.00\n",
      "|   |   |   |   |   |   |   |--- Coapplicant_Income <= 5187.00\n",
      "|   |   |   |   |   |   |   |   |--- class: 0\n",
      "|   |   |   |   |   |   |   |--- Coapplicant_Income >  5187.00\n",
      "|   |   |   |   |   |   |   |   |--- class: 1\n",
      "\n"
     ]
    }
   ],
   "source": [
    "from sklearn.tree import DecisionTreeClassifier\n",
    "from sklearn.model_selection import train_test_split\n",
    "from sklearn.metrics import accuracy_score\n",
    "from sklearn.tree import export_text\n",
    "\n",
    "y = loan_train['Loan_Status']\n",
    "x = loan_train.drop(columns=['Loan_Status'])\n",
    "\n",
    "x_train, x_test, y_train, y_test = train_test_split(x, y, test_size = 0.2, random_state = 0)\n",
    "dtc = DecisionTreeClassifier()\n",
    "\n",
    "#dtc = DecisionTreeClassifier(max_depth=3)\n",
    "dtc.fit(x_train, y_train)\n",
    "\n",
    "y_pred = dtc.predict(x_test)\n",
    "tree_rules = export_text(dtc, feature_names=list(x.columns))\n",
    "accuracy = accuracy_score(y_test, y_pred)\n",
    "print(\"Accuracy: {:.2f}%\".format(accuracy * 100))\n",
    "\n",
    "print(tree_rules)\n"
   ]
  },
  {
   "cell_type": "markdown",
   "id": "ee3669df",
   "metadata": {},
   "source": [
    "##### Hyperparameter Tuning & Model Performance\n",
    "As we see here, the tree gives us an accuracy score mainly around 60-70%, but our tree has way too many branches. The whole point of decision trees are the simplicity and easy to understand\n",
    "model. In the next lines of code, we will reduce the branches so that only 3 main branches are present."
   ]
  },
  {
   "cell_type": "code",
   "execution_count": 44,
   "id": "c0713b1f",
   "metadata": {},
   "outputs": [
    {
     "name": "stdout",
     "output_type": "stream",
     "text": [
      "Accuracy: 79.49%\n",
      "|--- Applicant_Income <= 1519.00\n",
      "|   |--- Property_Area <= 0.50\n",
      "|   |   |--- Applicant_Income <= 587.50\n",
      "|   |   |   |--- class: 0\n",
      "|   |   |--- Applicant_Income >  587.50\n",
      "|   |   |   |--- class: 1\n",
      "|   |--- Property_Area >  0.50\n",
      "|   |   |--- class: 0\n",
      "|--- Applicant_Income >  1519.00\n",
      "|   |--- Property_Area <= 0.50\n",
      "|   |   |--- Coapplicant_Income <= 5031.50\n",
      "|   |   |   |--- class: 1\n",
      "|   |   |--- Coapplicant_Income >  5031.50\n",
      "|   |   |   |--- class: 0\n",
      "|   |--- Property_Area >  0.50\n",
      "|   |   |--- Coapplicant_Income <= 94.50\n",
      "|   |   |   |--- class: 1\n",
      "|   |   |--- Coapplicant_Income >  94.50\n",
      "|   |   |   |--- class: 1\n",
      "\n"
     ]
    }
   ],
   "source": [
    "dtc = DecisionTreeClassifier(max_depth=3)\n",
    "dtc.fit(x_train, y_train)\n",
    "\n",
    "y_pred = dtc.predict(x_test)\n",
    "tree_rules = export_text(dtc, feature_names=list(x.columns))\n",
    "accuracy = accuracy_score(y_test, y_pred)\n",
    "\n",
    "print(\"Accuracy: {:.2f}%\".format(accuracy * 100))\n",
    "print(tree_rules)\n"
   ]
  },
  {
   "cell_type": "markdown",
   "id": "144d8e30",
   "metadata": {},
   "source": [
    "Not only is our tree way easier to understand, but we were able to reach an accuracy score of around 80%, which is much higher than the original tree. Our decision tree identifies that Applicant\n",
    "Income is the biggest indicator for Loan Status. We are more likely to choose this model in our final classification. However, we could be more confident in our model with more tuning with the\n",
    "number of branches which will ensure that we are not experiencing overfitting."
   ]
  },
  {
   "cell_type": "markdown",
   "id": "35ccaee2",
   "metadata": {},
   "source": [
    "#### Model Comparison & Conclusions\n",
    "\n",
    "In comparing our various models, we see that the best performing model was the Decision Tree Classifier. The resulting accuracy was about 80%, which is respectable for our model. However,\n",
    "something we could be critical about is its inflexibility -- a change in the data structure could completely flip this result -- and the lack of tuning various number of branches to ensure the best\n",
    "fit. Thus, we are weary to trust this accuracy report.\n"
   ]
  },
  {
   "cell_type": "markdown",
   "id": "3e86c403",
   "metadata": {},
   "source": [
    "Another important observation to note is the similarity in performance of the SVM and KNN model. Both of these models result in an accuracy of about 77-78% after tuning its\n",
    "hyperparameters, which is close to the performance of the Decision Tree classifier. The accuracy results is quite similar to the Decision Tree Classifier, and a pro of these models is that its\n",
    "classification was more parameters were tuned, ensuring a confidence in fitting the model and future data that the company could use to classify their clients. Therefore, when we consider\n",
    "automating this home loaning process, we would prefer flexible models like KNN and SVM to ensure that the models can move with the company's growth in customers."
   ]
  },
  {
   "cell_type": "code",
   "execution_count": null,
   "id": "203852c1",
   "metadata": {},
   "outputs": [],
   "source": []
  }
 ],
 "metadata": {
  "kernelspec": {
   "display_name": "Python 3",
   "language": "python",
   "name": "python3"
  },
  "language_info": {
   "codemirror_mode": {
    "name": "ipython",
    "version": 3
   },
   "file_extension": ".py",
   "mimetype": "text/x-python",
   "name": "python",
   "nbconvert_exporter": "python",
   "pygments_lexer": "ipython3",
   "version": "3.8.8"
  }
 },
 "nbformat": 4,
 "nbformat_minor": 5
}
